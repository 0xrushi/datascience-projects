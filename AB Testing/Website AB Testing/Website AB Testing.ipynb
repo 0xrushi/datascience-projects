{
 "cells": [
  {
   "cell_type": "markdown",
   "id": "a8528cef",
   "metadata": {},
   "source": [
    "Let’s imagine you work on the product team at a medium-sized online e-commerce business. The UX designer worked really hard on a new version of the product page, with the hope that it will lead to a higher conversion rate. The product manager (PM) told you that the current conversion rate is about 13% on average throughout the year, and that the team would be happy with an increase of 2%, meaning that the new design will be considered a success if it raises the conversion rate to 15%."
   ]
  },
  {
   "cell_type": "markdown",
   "id": "f5cb8991",
   "metadata": {},
   "source": [
    "Before rolling out the change, the team would be more comfortable testing it on a small number of users to see how it performs, so you suggest running an A/B test on a subset of your user base users."
   ]
  },
  {
   "cell_type": "markdown",
   "id": "a0e40373",
   "metadata": {},
   "source": [
    "## 1. Designing our experiment"
   ]
  },
  {
   "cell_type": "markdown",
   "id": "3a71b470",
   "metadata": {},
   "source": [
    "### Formulating a Hypothesis"
   ]
  },
  {
   "cell_type": "markdown",
   "id": "45acc4e6",
   "metadata": {},
   "source": [
    "First things first, we want to make sure we formulate a hypothesis at the start of our project. This will make sure our interpretation of the results is correct as well as rigorous."
   ]
  },
  {
   "cell_type": "markdown",
   "id": "4a0c9fda",
   "metadata": {},
   "source": [
    "Given we don’t know if the new design will perform better or worse (or the same?) as our current design, we’ll choose a two-tailed test:"
   ]
  },
  {
   "cell_type": "markdown",
   "id": "91bb9c09",
   "metadata": {},
   "source": [
    "**Hₒ: p = pₒ**\n",
    "    \n",
    "**Hₐ: p ≠ pₒ**"
   ]
  },
  {
   "cell_type": "markdown",
   "id": "de0d5123",
   "metadata": {},
   "source": [
    "where p and pₒ stand for the conversion rate of the new and old design, respectively.\n",
    "\n",
    "We’ll also set a confidence level of 95%:\n",
    "\n",
    "**α = 0.05**"
   ]
  },
  {
   "cell_type": "markdown",
   "id": "5cd21611",
   "metadata": {},
   "source": [
    "The α value is a threshold we set, by which we say “if the probability of observing a result as extreme or more (p-value) is lower than α, then we reject the Null hypothesis”. Since our α=0.05 (indicating 5% probability), our confidence (1 — α) is 95%."
   ]
  },
  {
   "cell_type": "markdown",
   "id": "bc4b69b8",
   "metadata": {},
   "source": [
    "### Choosing the variables"
   ]
  },
  {
   "cell_type": "markdown",
   "id": "663161f0",
   "metadata": {},
   "source": [
    "For our test we’ll need two groups:\n",
    "    \n",
    "- A control group - They'll be shown the old design\n",
    "\n",
    "- A treatment (or experimental) group - They'll be shown the new design"
   ]
  },
  {
   "cell_type": "markdown",
   "id": "dbcadb2f",
   "metadata": {},
   "source": [
    "This will be our Independent Variable. The reason we have two groups even though we know the baseline conversion rate is that we want to control for other variables that could have an effect on our results, such as seasonality: by having a control group we can directly compare their results to the treatment group, because the only systematic difference between the groups is the design of the product page, and we can therefore attribute any differences in results to the designs."
   ]
  },
  {
   "cell_type": "markdown",
   "id": "60909f9e",
   "metadata": {},
   "source": [
    "For our Dependent Variable (i.e. what we are trying to measure), we are interested in capturing the conversion rate. A way we can code this is by each user session with a binary variable:"
   ]
  },
  {
   "cell_type": "markdown",
   "id": "ff15d399",
   "metadata": {},
   "source": [
    "- 0 - The user did not buy the product during this user session\n",
    "\n",
    "- 1 - The user bought the product during this user session"
   ]
  },
  {
   "cell_type": "markdown",
   "id": "ea6fa9c9",
   "metadata": {},
   "source": [
    "This way, we can easily calculate the mean for each group to get the conversion rate of each design."
   ]
  },
  {
   "cell_type": "markdown",
   "id": "7dc9560f",
   "metadata": {},
   "source": [
    "### Choosing a sample size"
   ]
  },
  {
   "cell_type": "markdown",
   "id": "28033440",
   "metadata": {},
   "source": [
    "It is important to note that since we won’t test the whole user base (our population), the conversion rates that we’ll get will inevitably be only estimates of the true rates."
   ]
  },
  {
   "cell_type": "markdown",
   "id": "853df3d0",
   "metadata": {},
   "source": [
    "The number of people (or user sessions) we decide to capture in each group will have an effect on the precision of our estimated conversion rates: **the larger the sample size, the more precise our estimates (i.e. the smaller our confidence intervals), the higher the chance to detect a difference in the two groups, if present.**"
   ]
  },
  {
   "cell_type": "markdown",
   "id": "45363c60",
   "metadata": {},
   "source": [
    "On the other hand, the larger our sample gets, the more expensive (and impractical) our study becomes."
   ]
  },
  {
   "cell_type": "markdown",
   "id": "d312c932",
   "metadata": {},
   "source": [
    "So how many people should we have in each group?"
   ]
  },
  {
   "cell_type": "markdown",
   "id": "f20b3caa",
   "metadata": {},
   "source": [
    "The sample size we need is estimated through something called **Power analysis**, and it depends on a few factors:"
   ]
  },
  {
   "cell_type": "markdown",
   "id": "031f76c3",
   "metadata": {},
   "source": [
    "- **Power of the test (1 — β)** — This represents the probability of finding a statistical difference between the groups in our test when a difference is actually present. This is usually set at 0.8 by convention\n",
    "\n",
    "- **Alpha value (α)** — The critical value we set earlier to 0.05\n",
    "\n",
    "- **Effect size** — How big of a difference we expect there to be between the conversion rates"
   ]
  },
  {
   "cell_type": "markdown",
   "id": "238ca113",
   "metadata": {},
   "source": [
    "Since our team would be happy with a difference of 2%, we can use 13% and 15% to calculate the effect size we expect."
   ]
  },
  {
   "cell_type": "code",
   "execution_count": 1,
   "id": "1a0c59d1",
   "metadata": {
    "scrolled": true
   },
   "outputs": [
    {
     "name": "stdout",
     "output_type": "stream",
     "text": [
      "4720\n"
     ]
    }
   ],
   "source": [
    "# Packages imports\n",
    "import numpy as np\n",
    "import pandas as pd\n",
    "import scipy.stats as stats\n",
    "import statsmodels.stats.api as sms\n",
    "import matplotlib as mpl\n",
    "import matplotlib.pyplot as plt\n",
    "import seaborn as sns\n",
    "from math import ceil\n",
    "\n",
    "%matplotlib inline\n",
    "\n",
    "# Some plot styling preferences\n",
    "plt.style.use('seaborn-whitegrid')\n",
    "font = {'family' : 'Helvetica',\n",
    "        'weight' : 'bold',\n",
    "        'size'   : 14}\n",
    "\n",
    "mpl.rc('font', **font)\n",
    "effect_size = sms.proportion_effectsize(0.13, 0.15)    # Calculating effect size based on our expected rates\n",
    "\n",
    "required_n = sms.NormalIndPower().solve_power(\n",
    "    effect_size, \n",
    "    power=0.8, \n",
    "    alpha=0.05, \n",
    "    ratio=1\n",
    "    )                                                  # Calculating sample size needed\n",
    "\n",
    "required_n = ceil(required_n)                          # Rounding up to next whole number                          \n",
    "\n",
    "print(required_n)"
   ]
  },
  {
   "cell_type": "markdown",
   "id": "e6e55c1c",
   "metadata": {},
   "source": [
    "**We’d need at least 4720 observations for each group.**"
   ]
  },
  {
   "cell_type": "markdown",
   "id": "84579ec0",
   "metadata": {},
   "source": [
    "Having set the power parameter to 0.8 in practice means that if there exists an actual difference in conversion rate between our designs, assuming the difference is the one we estimated (13% vs. 15%), we have about 80% chance to detect it as statistically significant in our test with the sample size we calculated."
   ]
  },
  {
   "cell_type": "markdown",
   "id": "e22dd1b0",
   "metadata": {},
   "source": [
    "## 2. Collecting and preparing the data"
   ]
  },
  {
   "cell_type": "markdown",
   "id": "9505d85f",
   "metadata": {},
   "source": [
    "Great stuff! So now that we have our required sample size, we need to collect the data. Usually at this point you would work with your team to set up the experiment, likely with the help of the Engineering team, and make sure that you collect enough data based on the sample size needed.\n",
    "However, since we’ll use a dataset that we found online, in order to simulate this situation we’ll:"
   ]
  },
  {
   "cell_type": "markdown",
   "id": "2b1475bf",
   "metadata": {},
   "source": [
    "1. Download the dataset \n",
    "2. Read the data into a pandas DataFrame\n",
    "3. Check and clean the data as needed\n",
    "4. Randomly sample n=4720 rows from the DataFrame for each group "
   ]
  },
  {
   "cell_type": "code",
   "execution_count": 2,
   "id": "639e0c09",
   "metadata": {},
   "outputs": [
    {
     "data": {
      "text/html": [
       "<div>\n",
       "<style scoped>\n",
       "    .dataframe tbody tr th:only-of-type {\n",
       "        vertical-align: middle;\n",
       "    }\n",
       "\n",
       "    .dataframe tbody tr th {\n",
       "        vertical-align: top;\n",
       "    }\n",
       "\n",
       "    .dataframe thead th {\n",
       "        text-align: right;\n",
       "    }\n",
       "</style>\n",
       "<table border=\"1\" class=\"dataframe\">\n",
       "  <thead>\n",
       "    <tr style=\"text-align: right;\">\n",
       "      <th></th>\n",
       "      <th>user_id</th>\n",
       "      <th>timestamp</th>\n",
       "      <th>group</th>\n",
       "      <th>landing_page</th>\n",
       "      <th>converted</th>\n",
       "    </tr>\n",
       "  </thead>\n",
       "  <tbody>\n",
       "    <tr>\n",
       "      <th>0</th>\n",
       "      <td>851104</td>\n",
       "      <td>2017-01-21 22:11:48.556739</td>\n",
       "      <td>control</td>\n",
       "      <td>old_page</td>\n",
       "      <td>0</td>\n",
       "    </tr>\n",
       "    <tr>\n",
       "      <th>1</th>\n",
       "      <td>804228</td>\n",
       "      <td>2017-01-12 08:01:45.159739</td>\n",
       "      <td>control</td>\n",
       "      <td>old_page</td>\n",
       "      <td>0</td>\n",
       "    </tr>\n",
       "    <tr>\n",
       "      <th>2</th>\n",
       "      <td>661590</td>\n",
       "      <td>2017-01-11 16:55:06.154213</td>\n",
       "      <td>treatment</td>\n",
       "      <td>new_page</td>\n",
       "      <td>0</td>\n",
       "    </tr>\n",
       "    <tr>\n",
       "      <th>3</th>\n",
       "      <td>853541</td>\n",
       "      <td>2017-01-08 18:28:03.143765</td>\n",
       "      <td>treatment</td>\n",
       "      <td>new_page</td>\n",
       "      <td>0</td>\n",
       "    </tr>\n",
       "    <tr>\n",
       "      <th>4</th>\n",
       "      <td>864975</td>\n",
       "      <td>2017-01-21 01:52:26.210827</td>\n",
       "      <td>control</td>\n",
       "      <td>old_page</td>\n",
       "      <td>1</td>\n",
       "    </tr>\n",
       "  </tbody>\n",
       "</table>\n",
       "</div>"
      ],
      "text/plain": [
       "   user_id                   timestamp      group landing_page  converted\n",
       "0   851104  2017-01-21 22:11:48.556739    control     old_page          0\n",
       "1   804228  2017-01-12 08:01:45.159739    control     old_page          0\n",
       "2   661590  2017-01-11 16:55:06.154213  treatment     new_page          0\n",
       "3   853541  2017-01-08 18:28:03.143765  treatment     new_page          0\n",
       "4   864975  2017-01-21 01:52:26.210827    control     old_page          1"
      ]
     },
     "execution_count": 2,
     "metadata": {},
     "output_type": "execute_result"
    }
   ],
   "source": [
    "df = pd.read_csv('./data/ab_data.csv')\n",
    "\n",
    "df.head()"
   ]
  },
  {
   "cell_type": "code",
   "execution_count": 3,
   "id": "3ec001f7",
   "metadata": {},
   "outputs": [
    {
     "name": "stdout",
     "output_type": "stream",
     "text": [
      "<class 'pandas.core.frame.DataFrame'>\n",
      "RangeIndex: 294478 entries, 0 to 294477\n",
      "Data columns (total 5 columns):\n",
      " #   Column        Non-Null Count   Dtype \n",
      "---  ------        --------------   ----- \n",
      " 0   user_id       294478 non-null  int64 \n",
      " 1   timestamp     294478 non-null  object\n",
      " 2   group         294478 non-null  object\n",
      " 3   landing_page  294478 non-null  object\n",
      " 4   converted     294478 non-null  int64 \n",
      "dtypes: int64(2), object(3)\n",
      "memory usage: 11.2+ MB\n"
     ]
    }
   ],
   "source": [
    "df.info()"
   ]
  },
  {
   "cell_type": "code",
   "execution_count": 4,
   "id": "5043dfd5",
   "metadata": {},
   "outputs": [
    {
     "data": {
      "text/html": [
       "<div>\n",
       "<style scoped>\n",
       "    .dataframe tbody tr th:only-of-type {\n",
       "        vertical-align: middle;\n",
       "    }\n",
       "\n",
       "    .dataframe tbody tr th {\n",
       "        vertical-align: top;\n",
       "    }\n",
       "\n",
       "    .dataframe thead th {\n",
       "        text-align: right;\n",
       "    }\n",
       "</style>\n",
       "<table border=\"1\" class=\"dataframe\">\n",
       "  <thead>\n",
       "    <tr style=\"text-align: right;\">\n",
       "      <th>landing_page</th>\n",
       "      <th>new_page</th>\n",
       "      <th>old_page</th>\n",
       "    </tr>\n",
       "    <tr>\n",
       "      <th>group</th>\n",
       "      <th></th>\n",
       "      <th></th>\n",
       "    </tr>\n",
       "  </thead>\n",
       "  <tbody>\n",
       "    <tr>\n",
       "      <th>control</th>\n",
       "      <td>1928</td>\n",
       "      <td>145274</td>\n",
       "    </tr>\n",
       "    <tr>\n",
       "      <th>treatment</th>\n",
       "      <td>145311</td>\n",
       "      <td>1965</td>\n",
       "    </tr>\n",
       "  </tbody>\n",
       "</table>\n",
       "</div>"
      ],
      "text/plain": [
       "landing_page  new_page  old_page\n",
       "group                           \n",
       "control           1928    145274\n",
       "treatment       145311      1965"
      ]
     },
     "execution_count": 4,
     "metadata": {},
     "output_type": "execute_result"
    }
   ],
   "source": [
    "# To make sure all the control group are seeing the old page and viceversa\n",
    "\n",
    "pd.crosstab(df['group'], df['landing_page'])"
   ]
  },
  {
   "cell_type": "markdown",
   "id": "51269012",
   "metadata": {},
   "source": [
    "**There are 294478 rows in the DataFrame, each representing a user session, as well as 5 columns :**\n",
    "    \n",
    "- user_id - The user ID of each session\n",
    "\n",
    "- timestamp - Timestamp for the session\n",
    "\n",
    "- group - Which group the user was assigned to for that session {control, treatment}\n",
    "\n",
    "- landing_page - Which design each user saw on that session {old_page, new_page}\n",
    "\n",
    "- converted - Whether the session ended in a conversion or not (binary, 0=not converted, 1=converted)    "
   ]
  },
  {
   "cell_type": "markdown",
   "id": "25522c2a",
   "metadata": {},
   "source": [
    "We’ll actually only use the group and converted columns for the analysis."
   ]
  },
  {
   "cell_type": "markdown",
   "id": "2ebf3764",
   "metadata": {},
   "source": [
    "Before we go ahead and sample the data to get our subset, let’s make sure there are no users that have been sampled multiple times."
   ]
  },
  {
   "cell_type": "code",
   "execution_count": 5,
   "id": "6d0a39cc",
   "metadata": {},
   "outputs": [
    {
     "name": "stdout",
     "output_type": "stream",
     "text": [
      "There are 3894 users that appear multiple times in the dataset\n"
     ]
    }
   ],
   "source": [
    "session_counts = df['user_id'].value_counts(ascending=False)\n",
    "multi_users = session_counts[session_counts > 1].count()\n",
    "\n",
    "print(f'There are {multi_users} users that appear multiple times in the dataset')"
   ]
  },
  {
   "cell_type": "markdown",
   "id": "92934b85",
   "metadata": {},
   "source": [
    "There are, in fact, 3894 users that appear more than once. Since the number is pretty low, we’ll go ahead and remove them from the DataFrame to avoid sampling the same users twice."
   ]
  },
  {
   "cell_type": "code",
   "execution_count": 6,
   "id": "0f59b22a",
   "metadata": {},
   "outputs": [
    {
     "name": "stdout",
     "output_type": "stream",
     "text": [
      "The updated dataset now has 286690 entries\n"
     ]
    }
   ],
   "source": [
    "users_to_drop = session_counts[session_counts > 1].index\n",
    "\n",
    "df = df[~df['user_id'].isin(users_to_drop)]\n",
    "print(f'The updated dataset now has {df.shape[0]} entries')"
   ]
  },
  {
   "cell_type": "markdown",
   "id": "e4c53808",
   "metadata": {},
   "source": [
    "### Sampling"
   ]
  },
  {
   "cell_type": "markdown",
   "id": "18361f8e",
   "metadata": {},
   "source": [
    "Now that our DataFrame is nice and clean, we can proceed and sample n=4720 entries for each of the groups. We can use pandas' DataFrame.sample() method to do this, which will perform Simple Random Sampling for us."
   ]
  },
  {
   "cell_type": "code",
   "execution_count": 8,
   "id": "c024b0f5",
   "metadata": {},
   "outputs": [
    {
     "data": {
      "text/html": [
       "<div>\n",
       "<style scoped>\n",
       "    .dataframe tbody tr th:only-of-type {\n",
       "        vertical-align: middle;\n",
       "    }\n",
       "\n",
       "    .dataframe tbody tr th {\n",
       "        vertical-align: top;\n",
       "    }\n",
       "\n",
       "    .dataframe thead th {\n",
       "        text-align: right;\n",
       "    }\n",
       "</style>\n",
       "<table border=\"1\" class=\"dataframe\">\n",
       "  <thead>\n",
       "    <tr style=\"text-align: right;\">\n",
       "      <th></th>\n",
       "      <th>user_id</th>\n",
       "      <th>timestamp</th>\n",
       "      <th>group</th>\n",
       "      <th>landing_page</th>\n",
       "      <th>converted</th>\n",
       "    </tr>\n",
       "  </thead>\n",
       "  <tbody>\n",
       "    <tr>\n",
       "      <th>0</th>\n",
       "      <td>763854</td>\n",
       "      <td>2017-01-21 03:43:17.188315</td>\n",
       "      <td>control</td>\n",
       "      <td>old_page</td>\n",
       "      <td>0</td>\n",
       "    </tr>\n",
       "    <tr>\n",
       "      <th>1</th>\n",
       "      <td>690555</td>\n",
       "      <td>2017-01-18 06:38:13.079449</td>\n",
       "      <td>control</td>\n",
       "      <td>old_page</td>\n",
       "      <td>0</td>\n",
       "    </tr>\n",
       "    <tr>\n",
       "      <th>2</th>\n",
       "      <td>861520</td>\n",
       "      <td>2017-01-06 21:13:40.044766</td>\n",
       "      <td>control</td>\n",
       "      <td>old_page</td>\n",
       "      <td>0</td>\n",
       "    </tr>\n",
       "    <tr>\n",
       "      <th>3</th>\n",
       "      <td>630778</td>\n",
       "      <td>2017-01-05 16:42:36.995204</td>\n",
       "      <td>control</td>\n",
       "      <td>old_page</td>\n",
       "      <td>0</td>\n",
       "    </tr>\n",
       "    <tr>\n",
       "      <th>4</th>\n",
       "      <td>656634</td>\n",
       "      <td>2017-01-04 15:31:21.676130</td>\n",
       "      <td>control</td>\n",
       "      <td>old_page</td>\n",
       "      <td>0</td>\n",
       "    </tr>\n",
       "    <tr>\n",
       "      <th>...</th>\n",
       "      <td>...</td>\n",
       "      <td>...</td>\n",
       "      <td>...</td>\n",
       "      <td>...</td>\n",
       "      <td>...</td>\n",
       "    </tr>\n",
       "    <tr>\n",
       "      <th>9435</th>\n",
       "      <td>908512</td>\n",
       "      <td>2017-01-14 22:02:29.922674</td>\n",
       "      <td>treatment</td>\n",
       "      <td>new_page</td>\n",
       "      <td>0</td>\n",
       "    </tr>\n",
       "    <tr>\n",
       "      <th>9436</th>\n",
       "      <td>873211</td>\n",
       "      <td>2017-01-05 00:57:16.167151</td>\n",
       "      <td>treatment</td>\n",
       "      <td>new_page</td>\n",
       "      <td>0</td>\n",
       "    </tr>\n",
       "    <tr>\n",
       "      <th>9437</th>\n",
       "      <td>631276</td>\n",
       "      <td>2017-01-20 18:56:58.167809</td>\n",
       "      <td>treatment</td>\n",
       "      <td>new_page</td>\n",
       "      <td>0</td>\n",
       "    </tr>\n",
       "    <tr>\n",
       "      <th>9438</th>\n",
       "      <td>662301</td>\n",
       "      <td>2017-01-03 08:10:57.768806</td>\n",
       "      <td>treatment</td>\n",
       "      <td>new_page</td>\n",
       "      <td>0</td>\n",
       "    </tr>\n",
       "    <tr>\n",
       "      <th>9439</th>\n",
       "      <td>944623</td>\n",
       "      <td>2017-01-19 10:56:01.648653</td>\n",
       "      <td>treatment</td>\n",
       "      <td>new_page</td>\n",
       "      <td>1</td>\n",
       "    </tr>\n",
       "  </tbody>\n",
       "</table>\n",
       "<p>9440 rows × 5 columns</p>\n",
       "</div>"
      ],
      "text/plain": [
       "      user_id                   timestamp      group landing_page  converted\n",
       "0      763854  2017-01-21 03:43:17.188315    control     old_page          0\n",
       "1      690555  2017-01-18 06:38:13.079449    control     old_page          0\n",
       "2      861520  2017-01-06 21:13:40.044766    control     old_page          0\n",
       "3      630778  2017-01-05 16:42:36.995204    control     old_page          0\n",
       "4      656634  2017-01-04 15:31:21.676130    control     old_page          0\n",
       "...       ...                         ...        ...          ...        ...\n",
       "9435   908512  2017-01-14 22:02:29.922674  treatment     new_page          0\n",
       "9436   873211  2017-01-05 00:57:16.167151  treatment     new_page          0\n",
       "9437   631276  2017-01-20 18:56:58.167809  treatment     new_page          0\n",
       "9438   662301  2017-01-03 08:10:57.768806  treatment     new_page          0\n",
       "9439   944623  2017-01-19 10:56:01.648653  treatment     new_page          1\n",
       "\n",
       "[9440 rows x 5 columns]"
      ]
     },
     "execution_count": 8,
     "metadata": {},
     "output_type": "execute_result"
    }
   ],
   "source": [
    "control_sample = df[df['group'] == 'control'].sample(n=required_n, random_state=22)\n",
    "treatment_sample = df[df['group'] == 'treatment'].sample(n=required_n, random_state=22)\n",
    "\n",
    "ab_test = pd.concat([control_sample, treatment_sample], axis=0)\n",
    "ab_test.reset_index(drop=True, inplace=True)\n",
    "ab_test"
   ]
  },
  {
   "cell_type": "code",
   "execution_count": 9,
   "id": "f0d1492e",
   "metadata": {},
   "outputs": [
    {
     "name": "stdout",
     "output_type": "stream",
     "text": [
      "<class 'pandas.core.frame.DataFrame'>\n",
      "RangeIndex: 9440 entries, 0 to 9439\n",
      "Data columns (total 5 columns):\n",
      " #   Column        Non-Null Count  Dtype \n",
      "---  ------        --------------  ----- \n",
      " 0   user_id       9440 non-null   int64 \n",
      " 1   timestamp     9440 non-null   object\n",
      " 2   group         9440 non-null   object\n",
      " 3   landing_page  9440 non-null   object\n",
      " 4   converted     9440 non-null   int64 \n",
      "dtypes: int64(2), object(3)\n",
      "memory usage: 368.9+ KB\n"
     ]
    }
   ],
   "source": [
    "ab_test.info()"
   ]
  },
  {
   "cell_type": "code",
   "execution_count": 10,
   "id": "4e0297cb",
   "metadata": {},
   "outputs": [
    {
     "data": {
      "text/plain": [
       "control      4720\n",
       "treatment    4720\n",
       "Name: group, dtype: int64"
      ]
     },
     "execution_count": 10,
     "metadata": {},
     "output_type": "execute_result"
    }
   ],
   "source": [
    "ab_test['group'].value_counts()"
   ]
  },
  {
   "cell_type": "markdown",
   "id": "73c16367",
   "metadata": {},
   "source": [
    "Great, looks like everything went as planned, and we are now ready to analyse our results."
   ]
  },
  {
   "cell_type": "markdown",
   "id": "d4f35fc5",
   "metadata": {},
   "source": [
    "## 3. Visualising the results"
   ]
  },
  {
   "cell_type": "markdown",
   "id": "da97aad4",
   "metadata": {},
   "source": [
    "The first thing we can do is to calculate some basic statistics to get an idea of what our samples look like."
   ]
  },
  {
   "cell_type": "code",
   "execution_count": 11,
   "id": "787ad758",
   "metadata": {},
   "outputs": [
    {
     "data": {
      "text/html": [
       "<style type=\"text/css\">\n",
       "</style>\n",
       "<table id=\"T_4a1a3_\">\n",
       "  <thead>\n",
       "    <tr>\n",
       "      <th class=\"blank level0\" >&nbsp;</th>\n",
       "      <th class=\"col_heading level0 col0\" >conversion_rate</th>\n",
       "      <th class=\"col_heading level0 col1\" >std_deviation</th>\n",
       "      <th class=\"col_heading level0 col2\" >std_error</th>\n",
       "    </tr>\n",
       "    <tr>\n",
       "      <th class=\"index_name level0\" >group</th>\n",
       "      <th class=\"blank col0\" >&nbsp;</th>\n",
       "      <th class=\"blank col1\" >&nbsp;</th>\n",
       "      <th class=\"blank col2\" >&nbsp;</th>\n",
       "    </tr>\n",
       "  </thead>\n",
       "  <tbody>\n",
       "    <tr>\n",
       "      <th id=\"T_4a1a3_level0_row0\" class=\"row_heading level0 row0\" >control</th>\n",
       "      <td id=\"T_4a1a3_row0_col0\" class=\"data row0 col0\" >0.123</td>\n",
       "      <td id=\"T_4a1a3_row0_col1\" class=\"data row0 col1\" >0.329</td>\n",
       "      <td id=\"T_4a1a3_row0_col2\" class=\"data row0 col2\" >0.005</td>\n",
       "    </tr>\n",
       "    <tr>\n",
       "      <th id=\"T_4a1a3_level0_row1\" class=\"row_heading level0 row1\" >treatment</th>\n",
       "      <td id=\"T_4a1a3_row1_col0\" class=\"data row1 col0\" >0.126</td>\n",
       "      <td id=\"T_4a1a3_row1_col1\" class=\"data row1 col1\" >0.331</td>\n",
       "      <td id=\"T_4a1a3_row1_col2\" class=\"data row1 col2\" >0.005</td>\n",
       "    </tr>\n",
       "  </tbody>\n",
       "</table>\n"
      ],
      "text/plain": [
       "<pandas.io.formats.style.Styler at 0x159a2c351f0>"
      ]
     },
     "execution_count": 11,
     "metadata": {},
     "output_type": "execute_result"
    }
   ],
   "source": [
    "conversion_rates = ab_test.groupby('group')['converted']\n",
    "\n",
    "std_p = lambda x: np.std(x, ddof=0)              # Std. deviation of the proportion\n",
    "se_p = lambda x: stats.sem(x, ddof=0)            # Std. error of the proportion (std / sqrt(n))\n",
    "\n",
    "conversion_rates = conversion_rates.agg([np.mean, std_p, se_p])\n",
    "conversion_rates.columns = ['conversion_rate', 'std_deviation', 'std_error']\n",
    "\n",
    "\n",
    "conversion_rates.style.format('{:.3f}')"
   ]
  },
  {
   "cell_type": "markdown",
   "id": "4206f55a",
   "metadata": {},
   "source": [
    "Judging by the stats above, it does look like **our two designs performed very similarly**, with our new design performing slightly better, approx. **12.3% vs. 12.6% conversion rate**."
   ]
  },
  {
   "cell_type": "markdown",
   "id": "e39f3137",
   "metadata": {},
   "source": [
    "Plotting the data will make these results easier to grasp:"
   ]
  },
  {
   "cell_type": "code",
   "execution_count": 13,
   "id": "4664cbe9",
   "metadata": {},
   "outputs": [
    {
     "name": "stderr",
     "output_type": "stream",
     "text": [
      "findfont: Font family ['Helvetica'] not found. Falling back to DejaVu Sans.\n",
      "findfont: Font family ['Helvetica'] not found. Falling back to DejaVu Sans.\n",
      "findfont: Font family ['Helvetica'] not found. Falling back to DejaVu Sans.\n"
     ]
    },
    {
     "data": {
      "image/png": "[encoded data removed]",
      "text/plain": [
       "<Figure size 576x432 with 1 Axes>"
      ]
     },
     "metadata": {},
     "output_type": "display_data"
    }
   ],
   "source": [
    "plt.figure(figsize=(8,6))\n",
    "\n",
    "sns.barplot(x=ab_test['group'], y=ab_test['converted'], ci=False)\n",
    "\n",
    "plt.ylim(0, 0.17)\n",
    "plt.title('Conversion rate by group', pad=20)\n",
    "plt.xlabel('Group', labelpad=15)\n",
    "plt.ylabel('Converted (proportion)', labelpad=15);"
   ]
  },
  {
   "cell_type": "markdown",
   "id": "2cdb6b11",
   "metadata": {},
   "source": [
    "The conversion rates for our groups are indeed very close. Also note that the conversion rate of the control group is lower than what we would have expected given what we knew about our avg. conversion rate (12.3% vs. 13%). This goes to show that there is some variation in results when sampling from a population."
   ]
  },
  {
   "cell_type": "markdown",
   "id": "59392317",
   "metadata": {},
   "source": [
    "So… the treatment group's value is higher. Is this difference statistically significant?"
   ]
  },
  {
   "cell_type": "markdown",
   "id": "c474d8d9",
   "metadata": {},
   "source": [
    "## 4. Testing the hypothesis"
   ]
  },
  {
   "cell_type": "markdown",
   "id": "0d59b55e",
   "metadata": {},
   "source": [
    "The last step of our analysis is testing our hypothesis. Since we have a very large sample, we can use the normal approximation for calculating our p-value (i.e. z-test)."
   ]
  },
  {
   "cell_type": "markdown",
   "id": "0ea08b14",
   "metadata": {},
   "source": [
    "Again, Python makes all the calculations very easy. We can use the statsmodels.stats.proportion module to get the p-value and confidence intervals:"
   ]
  },
  {
   "cell_type": "code",
   "execution_count": 14,
   "id": "d3026825",
   "metadata": {},
   "outputs": [],
   "source": [
    "from statsmodels.stats.proportion import proportions_ztest, proportion_confint\n",
    "\n",
    "control_results = ab_test[ab_test['group'] == 'control']['converted']\n",
    "treatment_results = ab_test[ab_test['group'] == 'treatment']['converted']"
   ]
  },
  {
   "cell_type": "code",
   "execution_count": 15,
   "id": "2548e89f",
   "metadata": {},
   "outputs": [
    {
     "data": {
      "text/plain": [
       "0       0\n",
       "1       0\n",
       "2       0\n",
       "3       0\n",
       "4       0\n",
       "       ..\n",
       "4715    0\n",
       "4716    0\n",
       "4717    0\n",
       "4718    0\n",
       "4719    0\n",
       "Name: converted, Length: 4720, dtype: int64"
      ]
     },
     "execution_count": 15,
     "metadata": {},
     "output_type": "execute_result"
    }
   ],
   "source": [
    "control_results "
   ]
  },
  {
   "cell_type": "code",
   "execution_count": 16,
   "id": "9cb67390",
   "metadata": {},
   "outputs": [
    {
     "data": {
      "text/plain": [
       "4720    0\n",
       "4721    0\n",
       "4722    0\n",
       "4723    0\n",
       "4724    0\n",
       "       ..\n",
       "9435    0\n",
       "9436    0\n",
       "9437    0\n",
       "9438    0\n",
       "9439    1\n",
       "Name: converted, Length: 4720, dtype: int64"
      ]
     },
     "execution_count": 16,
     "metadata": {},
     "output_type": "execute_result"
    }
   ],
   "source": [
    "treatment_results "
   ]
  },
  {
   "cell_type": "code",
   "execution_count": 17,
   "id": "04246450",
   "metadata": {},
   "outputs": [
    {
     "name": "stdout",
     "output_type": "stream",
     "text": [
      "4720\n",
      "4720\n"
     ]
    }
   ],
   "source": [
    "n_con = control_results.count()\n",
    "n_treat = treatment_results.count()\n",
    "print(n_con)\n",
    "print(n_treat)"
   ]
  },
  {
   "cell_type": "code",
   "execution_count": 18,
   "id": "9f7a218d",
   "metadata": {},
   "outputs": [],
   "source": [
    "successes = [control_results.sum(), treatment_results.sum()]"
   ]
  },
  {
   "cell_type": "code",
   "execution_count": 19,
   "id": "82e7de8a",
   "metadata": {},
   "outputs": [
    {
     "data": {
      "text/plain": [
       "[582, 593]"
      ]
     },
     "execution_count": 19,
     "metadata": {},
     "output_type": "execute_result"
    }
   ],
   "source": [
    "successes"
   ]
  },
  {
   "cell_type": "code",
   "execution_count": 20,
   "id": "5852acbb",
   "metadata": {},
   "outputs": [],
   "source": [
    "nobs = [n_con, n_treat]"
   ]
  },
  {
   "cell_type": "code",
   "execution_count": 21,
   "id": "7f7f3d3f",
   "metadata": {},
   "outputs": [
    {
     "data": {
      "text/plain": [
       "[4720, 4720]"
      ]
     },
     "execution_count": 21,
     "metadata": {},
     "output_type": "execute_result"
    }
   ],
   "source": [
    "nobs"
   ]
  },
  {
   "cell_type": "code",
   "execution_count": 22,
   "id": "9f798f7c",
   "metadata": {},
   "outputs": [],
   "source": [
    "z_stat, pval = proportions_ztest(successes, nobs=nobs)\n",
    "(lower_con, lower_treat), (upper_con, upper_treat) = proportion_confint(successes, nobs=nobs, alpha=0.05)"
   ]
  },
  {
   "cell_type": "code",
   "execution_count": 23,
   "id": "83521598",
   "metadata": {},
   "outputs": [
    {
     "name": "stdout",
     "output_type": "stream",
     "text": [
      "z statistic: -0.34\n",
      "p-value: 0.732\n",
      "ci 95% for control group: [0.114, 0.133]\n",
      "ci 95% for treatment group: [0.116, 0.135]\n"
     ]
    }
   ],
   "source": [
    "print(f'z statistic: {z_stat:.2f}')\n",
    "print(f'p-value: {pval:.3f}')\n",
    "print(f'ci 95% for control group: [{lower_con:.3f}, {upper_con:.3f}]')\n",
    "print(f'ci 95% for treatment group: [{lower_treat:.3f}, {upper_treat:.3f}]')"
   ]
  },
  {
   "cell_type": "markdown",
   "id": "7d048172",
   "metadata": {},
   "source": [
    "## 5. Drawing conclusions"
   ]
  },
  {
   "cell_type": "markdown",
   "id": "70f7dd6a",
   "metadata": {},
   "source": [
    "Since our p-value=0.732 is way above our α=0.05 threshold, we cannot reject the Null hypothesis Hₒ, which means that our new design did not perform significantly different (let alone better) than our old one"
   ]
  },
  {
   "cell_type": "markdown",
   "id": "8fa62db7",
   "metadata": {},
   "source": [
    "Additionally, if we look at the confidence interval for the treatment group ([0.116, 0.135], or 11.6-13.5%) we notice that:\n",
    "\n",
    "1. It includes our baseline value of 13% conversion rate\n",
    "2. It does not include our target value of 15% (the 2% uplift we were aiming for)"
   ]
  },
  {
   "cell_type": "markdown",
   "id": "fc366578",
   "metadata": {},
   "source": [
    "What this means is that it is more likely that the true conversion rate of the new design is similar to our baseline, rather than the 15% target we had hoped for. This is further proof that our new design is not likely to be an improvement on our old design, and that unfortunately we are back to the drawing board!"
   ]
  },
  {
   "cell_type": "code",
   "execution_count": null,
   "id": "e7339c44",
   "metadata": {},
   "outputs": [],
   "source": []
  }
 ],
 "metadata": {
  "kernelspec": {
   "display_name": "time_series",
   "language": "python",
   "name": "time_series"
  },
  "language_info": {
   "codemirror_mode": {
    "name": "ipython",
    "version": 3
   },
   "file_extension": ".py",
   "mimetype": "text/x-python",
   "name": "python",
   "nbconvert_exporter": "python",
   "pygments_lexer": "ipython3",
   "version": "3.8.5"
  }
 },
 "nbformat": 4,
 "nbformat_minor": 5
}
