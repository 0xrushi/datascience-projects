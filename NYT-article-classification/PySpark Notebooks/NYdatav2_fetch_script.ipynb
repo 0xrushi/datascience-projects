{
 "cells": [
  {
   "cell_type": "code",
   "execution_count": 12,
   "metadata": {},
   "outputs": [],
   "source": [
    "def getAPIkey(file='./nyt_api.key') :\n",
    "    \"\"\"\n",
    "    Get New York Times API key from a file\n",
    "    \n",
    "    Parameters\n",
    "    ----------\n",
    "    file : str\n",
    "        Full designated path of the key file\n",
    "    \n",
    "    Returns\n",
    "    -------\n",
    "    str\n",
    "        String of API key\n",
    "    \"\"\"\n",
    "    try:\n",
    "        with open(file) as fp:\n",
    "            key = fp.read().strip()\n",
    "            return key\n",
    "    except Exception as e:\n",
    "        print(e)\n",
    "\n",
    "akey= getAPIkey()\n",
    "# akey"
   ]
  },
  {
   "cell_type": "code",
   "execution_count": 5,
   "metadata": {},
   "outputs": [
    {
     "name": "stdout",
     "output_type": "stream",
     "text": [
      "We got only 100  articles for selected period\n"
     ]
    }
   ],
   "source": [
    "#import nytimesarticlev2 as nytimesarticle \n",
    "from nytimesarticlev2 import articleAPI\n",
    "from bs4 import BeautifulSoup\n",
    "import requests\n",
    "api = articleAPI(akey)\n",
    "#f=open('nytarticlesday.txt','w')\n",
    "links=[]\n",
    "n=0\n",
    "try:\n",
    "    for a in range(0,20):\n",
    "        articles = api.search(q=\"trump\", begin_date=20180101,page=a)\n",
    "        for i in range(0,len(articles['response']['docs'])):\n",
    "            url = articles['response']['docs'][i]['web_url']\n",
    "            data = requests.get(url)\n",
    "            soup = BeautifulSoup(data.content, 'html.parser')\n",
    "            soup.prettify()\n",
    "            filename='val'+str(n)+'.txt'\n",
    "            f=open(filename,'w')\n",
    "            for j in range((len(soup.find_all('p')))-3):\n",
    "                f.write(soup.find_all('p')[j].get_text())\n",
    "            f.close()\n",
    "            #print(url)\n",
    "            links.append(url)\n",
    "            n+=1\n",
    "    \n",
    "except:\n",
    "    print(\"We got only\",len(links),\" articles for selected period\")"
   ]
  },
  {
   "cell_type": "code",
   "execution_count": 6,
   "metadata": {},
   "outputs": [
    {
     "name": "stdout",
     "output_type": "stream",
     "text": [
      "We got only 100  articles for selected period\n"
     ]
    }
   ],
   "source": [
    "from nytimesarticlev2 import articleAPI\n",
    "from bs4 import BeautifulSoup\n",
    "import requests\n",
    "api = articleAPI(akey)\n",
    "#f=open('nytarticlesday.txt','w')\n",
    "links=[]\n",
    "n=0\n",
    "try:\n",
    "    for a in range(0,20):\n",
    "        articles = api.search(q=\"basketball\", begin_date=20180201,page=a)\n",
    "        for i in range(0,len(articles['response']['docs'])):\n",
    "            url = articles['response']['docs'][i]['web_url']\n",
    "            data = requests.get(url)\n",
    "            soup = BeautifulSoup(data.content, 'html.parser')\n",
    "            soup.prettify()\n",
    "            filename='NBA'+str(n)+'.txt'\n",
    "            f=open(filename,'w')\n",
    "            for j in range((len(soup.find_all('p')))-3):\n",
    "                f.write(soup.find_all('p')[j].get_text())\n",
    "            f.close()\n",
    "            #print(url)\n",
    "            links.append(url)\n",
    "            n+=1\n",
    "    \n",
    "except:\n",
    "    print(\"We got only\",len(links),\" articles for selected period\")"
   ]
  },
  {
   "cell_type": "code",
   "execution_count": 8,
   "metadata": {},
   "outputs": [],
   "source": [
    "from nytimesarticlev2 import articleAPI\n",
    "from bs4 import BeautifulSoup\n",
    "import requests\n",
    "api = articleAPI(akey)\n",
    "#f=open('nytarticlesday.txt','w')\n",
    "links=[]\n",
    "\n",
    "n=0\n",
    "try:\n",
    "    for a in range(0,20):\n",
    "        articles = api.search(q=\"baseball\", begin_date=20180201,page=a)\n",
    "        for i in range(0,len(articles['response']['docs'])):\n",
    "            url = articles['response']['docs'][i]['web_url']\n",
    "            data = requests.get(url)\n",
    "            soup = BeautifulSoup(data.content, 'html.parser')\n",
    "            soup.prettify()\n",
    "            filename='baseball'+str(n)+'.txt'\n",
    "            f=open(filename,'w')\n",
    "            for j in range((len(soup.find_all('p')))-3):\n",
    "                f.write(soup.find_all('p')[j].get_text())\n",
    "            f.close()\n",
    "            #print(url)\n",
    "            links.append(url)\n",
    "            n+=1\n",
    "    \n",
    "except:\n",
    "    print(\"We got only\",len(links),\" articles for selected period\")"
   ]
  }
 ],
 "metadata": {
  "kernelspec": {
   "display_name": "Python 3",
   "language": "python",
   "name": "python3"
  },
  "language_info": {
   "codemirror_mode": {
    "name": "ipython",
    "version": 3
   },
   "file_extension": ".py",
   "mimetype": "text/x-python",
   "name": "python",
   "nbconvert_exporter": "python",
   "pygments_lexer": "ipython3",
   "version": "3.6.6"
  }
 },
 "nbformat": 4,
 "nbformat_minor": 2
}
