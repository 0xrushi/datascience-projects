{
 "cells": [
  {
   "cell_type": "markdown",
   "metadata": {},
   "source": [
    "# TEXT CLASSIFICATION USING PYSPARK AND MLLIB\n",
    "\n",
    "### Create DATA FRAME in PYSPARK"
   ]
  },
  {
   "cell_type": "code",
   "execution_count": 2,
   "metadata": {},
   "outputs": [],
   "source": [
    "from pyspark import SparkContext\n",
    "sc = SparkContext.getOrCreate()"
   ]
  },
  {
   "cell_type": "code",
   "execution_count": 3,
   "metadata": {},
   "outputs": [],
   "source": [
    "import os\n",
    "#path = os.chdir('./')\n",
    "\n",
    "from pyspark.sql import SQLContext\n",
    "from pyspark import SparkContext\n",
    "sc =SparkContext.getOrCreate()\n",
    "sqlContext = SQLContext(sc)"
   ]
  },
  {
   "cell_type": "code",
   "execution_count": 4,
   "metadata": {},
   "outputs": [],
   "source": [
    "from pyspark.ml import Pipeline, PipelineModel\n",
    "from pyspark.ml.classification import LogisticRegression\n",
    "from pyspark.ml.evaluation import BinaryClassificationEvaluator\n",
    "from pyspark.ml.feature import HashingTF, StopWordsRemover, IDF, Tokenizer\n",
    "from pyspark.ml.tuning import ParamGridBuilder,CrossValidator\n",
    "from pyspark.mllib.linalg import Vector"
   ]
  },
  {
   "cell_type": "markdown",
   "metadata": {},
   "source": [
    "### Read Downloaded Data Files ; Create Learning DataSet"
   ]
  },
  {
   "cell_type": "code",
   "execution_count": 5,
   "metadata": {},
   "outputs": [],
   "source": [
    "dirpath = 'data/NYT-articles/*'\n",
    "NYTRawData = sc.wholeTextFiles(dirpath)"
   ]
  },
  {
   "cell_type": "code",
   "execution_count": 6,
   "metadata": {},
   "outputs": [
    {
     "data": {
      "text/plain": [
       "452"
      ]
     },
     "execution_count": 6,
     "metadata": {},
     "output_type": "execute_result"
    }
   ],
   "source": [
    "#print(\"The number of documents read in is \" + NYTRawData.count() + \".\")\n",
    "NYTRawData.count()"
   ]
  },
  {
   "cell_type": "markdown",
   "metadata": {},
   "source": [
    "### Create UNKNOWN Dataset"
   ]
  },
  {
   "cell_type": "code",
   "execution_count": 7,
   "metadata": {},
   "outputs": [],
   "source": [
    "dirpathUN = 'data/Validation set/*'\n",
    "NYTRawDataUNKNOWN = sc.wholeTextFiles(dirpathUN)"
   ]
  },
  {
   "cell_type": "code",
   "execution_count": 8,
   "metadata": {},
   "outputs": [
    {
     "data": {
      "text/plain": [
       "137"
      ]
     },
     "execution_count": 8,
     "metadata": {},
     "output_type": "execute_result"
    }
   ],
   "source": [
    "#print(\"The number of documents read in is \" + NYTRawData.count() + \".\")\n",
    "NYTRawDataUNKNOWN.count()"
   ]
  },
  {
   "cell_type": "markdown",
   "metadata": {},
   "source": [
    "### Display Sample Data from Learning Dataset "
   ]
  },
  {
   "cell_type": "code",
   "execution_count": 9,
   "metadata": {
    "scrolled": false
   },
   "outputs": [
    {
     "data": {
      "text/plain": [
       "[('file:/home/h4x3d/Documents/Document-classification-pyspark/data/NYT-articles/sports/5ae48c77068401528a2ab3c3',\n",
       "  'The Mets’ Posture Improved Along With This Pitcher’s\\nSAN DIEGO — Like many people, pitcher Robert Gsellman, a surprising and emerging force in the Mets’ bullpen, loves playing video games. His console of choice: Xbox One. The games in heavy rotation: FIFA, Call of Duty: WW II and, until recently, NBA 2K, which he ditched because he grew tired of losing to his friends.\\nBut a problem with the way Gsellman, 24, was playing those video games undermined his pitching. In front of a screen, he hunched over, elbows on his knees. “I was sitting like that all the time,” he said.\\nThis poor posture, Gsellman believed, developed after surgery to repair torn cartilage in his left (nonthrowing) shoulder before the 2017 season. Although his arm was in a cast for only three weeks, it created a bad habit of leaning his shoulders forward and curving his back.\\nSo how could that affect his pitching? The answer was important in restoring a pitcher whose versatility and distinction have boosted the team’s bullpen and who has helped propel the Mets (16-8 going into Saturday’s game) to the top ranks of the National League this season.\\nThrowing a baseball is a series of interconnected movements, from the toes all the way up to the fingers. Gsellman’s improper posture and a tight throwing shoulder meant he could not get his arm into a proper and consistent release point.\\n“I was like all over the place last year,” he said, then demonstrated a variety of different points at which he released the ball. “I was trying to get here and here and here. I wasn’t in the same slot.”\\nThe improper alignment highlighted other deficiencies: He was not using his legs properly, and what he thought he knew about training was not enough. The kinetic chain was off, and that led to a miserable 2017 season.\\n“Posture is incredibly important,” said Eric Cressey, who runs Cressey Sports Performance, a training company with facilities outside Boston and in Florida, with a performance coach, Shane Rye. The Mets ace Noah Syndergaard has worked with both experts since last summer, and Gsellman followed suit last winter.\\n“Imagine a runner who starts five yards behind the starting line at a race; he’s either got to move much faster or find an alternate route to get to the finish line,” Cressey continued in an email. “This happens a lot with pitching mechanics, as we’re talking about the single-fastest motion of all of sports combined with a game of millimeters.”\\nGsellman’s poor posture contributed to a 5.19 earned run average over 119⅔ innings last season — a year after, as an unheralded prospect, he helped save the Mets’ injury-plagued 2016 season. After starting for much of his first two years in the majors, Gsellman was briefly demoted to the bullpen last season, when a dropping arm caused his trademark sinking fastball not to sink as usual.\\n“It moved side to side instead of down,” he said.\\nSo this off-season, with the help of Cressey and Rye in Jupiter, Fla., and a physical therapist, Judy Seto, the director of sports performance at Select Physical Therapy in Los Angeles, Gsellman fixed his body. A Los Angeles native, Gsellman made three visits a week to work on his right shoulder with Seto, who had supervised his rehabilitation after the surgery on his left shoulder.\\nRye, who talked to Gsellman last summer about a hamstring strain, drew up an off-season program for Gsellman in person. Rye said past problems with Gsellman’s lower body had affected the way he generated and absorbed the force of pitching. An improvement with his legs would alleviate some stress on his shoulder.\\nThis winter, Gsellman said, he stopped doing powerlifting moves like traditional squats, and instead emphasized leg workouts that helped both strengthen and loosen his limbs. When he addressed his hamstring deficiency, he said, it helped prevent knee pain he had felt in the past.\\nGsellman also underwent many massages and did stretching to loosen soft tissue in and around his shoulder.\\n“In addition to spending time improving his rotator-cuff strength, we focused on getting his upper back and rib cage to sit and move in better positions, which in turn helped his shoulder,” Rye said.\\nIt was all eye-opening for Gsellman.\\n“I wonder sometimes: How did I make it through the minor leagues?” he said. “I didn’t know anything about my body then. I rededicated myself to learn about my body, and it’s helping with the day-to-day now.”\\nNow, Gsellman is essential to the bullpen. His right arm is moving faster and more smoothly than before. Along with Seth Lugo and Paul Sewald, Gsellman has provided an important bridge between inconsistent starting pitchers and the back-end relievers like Jeurys Familia.\\nLed by Familia’s three blown saves, the Mets’ bullpen has had an inconsistent past week and a half. Gsellman also stumbled after inheriting an eighth-inning jam during a 4-3 loss to the St. Louis Cardinals on Thursday.\\nBut appearing late in a tight game reflected the Mets’ growing confidence in Gsellman. His sinking fastball, clocked at an average of about 94 miles per hour, is moving more the way it did in 2016. His slider and changeup are improved. Opponents were hitting .216 against him entering the weekend. His 1.93 E.R.A. tied him with Familia for best on the team, and he has been called on to pitch multiple innings at a time or to come in for one batter with runners on base.\\nUnlike Matt Harvey, who is upset about his recent move from the starting rotation to the bullpen, Gsellman has embraced relieving.\\n“He literally runs off the mound saying, ‘Let’s go!’” Manager Mickey Callaway said. “It’s really fun to see a guy having fun out there and not putting pressure on himself to try and get back into the rotation. Just go out and do the job you’re supposed to do that day and embrace it.”\\nAs a starter, Gsellman said he felt he needed to be subdued and regimented. He grew bored waiting five days for his next start. As a relief pitcher, he can throw harder, display more emotion and contribute more often.\\n“I get really fired up knowing that I wake up every day, ‘Damn, I’m playing today,’” he said.\\nThe same applies to his video game habits. He still plays regularly, sometimes with Lugo and Syndergaard. But Lugo said Gsellman was not as good at the games as he pretends to be. “And you can quote me on that,” Lugo said.\\nMost important, though, when Gsellman gets in front of the television to play, he has made a critical change. “I just sit up more and keep my back straight,” he said.\\n')]"
      ]
     },
     "execution_count": 9,
     "metadata": {},
     "output_type": "execute_result"
    }
   ],
   "source": [
    "NYTRawData.takeSample(False,1, seed = 231279)"
   ]
  },
  {
   "cell_type": "markdown",
   "metadata": {},
   "source": [
    "### Display Sample Data from UNKNOWN Dataset "
   ]
  },
  {
   "cell_type": "code",
   "execution_count": 10,
   "metadata": {},
   "outputs": [
    {
     "data": {
      "text/plain": [
       "[('file:/home/h4x3d/Documents/Document-classification-pyspark/data/Validation set/sports/5aa2fc34068401528a29237c',\n",
       "  \"With Checkups and Chickpea Pasta, the Mets Get Healthier. But Better?\\nPORT ST. LUCIE, Fla. — After a season in which several high-profile injuries exposed deficiencies in the medical treatment and training of players, the Mets promised an overhaul. Spring training has provided a glimpse of what they meant.\\nEvery day, players tap an iPad to record their sleeping habits and the color of their urine, to help assess if they are drinking enough water. At the clubhouse buffet, chickpea pasta is in, but chicken fingers are out. And a new job was created to direct the staff members how to coax the best performance out of the players.\\n“Everything is a work in progress,” said Jim Cavallini, 39, the Mets’ director of performance and sports science, a position new for the team and relatively new across the sport. “We’re going to look at anything and everything that can make our players better.”\\nThe Mets are trying to fix the faults of the past. Although many factors play into it, the Mets rank among the worst in the league in the number of games missed because of injury, according to ManGamesLost.com.\\nLast year, numerous injuries, particularly to stars like Noah Syndergaard, Yoenis Cespedes and Jeurys Familia, severely undermined a season in which the team finished a disappointing 70-92 and missed the playoffs. Questions arose about how the Mets handled injuries and how well the team trained players; Cespedes, for example, didn't run, stretch or hydrate enough.\\nThe new, high-tech approach follows the growing use of big data to track and address players’ health and prevent injury in professional sports. Until recently, Major League Baseball had mostly used such information technology to evaluate players, not necessarily to keep them fit.\\nThe Mets now hope not only to right the ship but to eventually become one of the more advanced teams in analyzing and improving players’ health.\\n“Over 10 years I’ve been in baseball, there’s been talk about the next wave of medical care,” said the relief pitcher Jerry Blevins. “It’s nice to see that somebody has taken a hands-on progressive change.”\\nAmong the most apparent changes are the daily monitoring of hydration and readiness, which may seem like obvious steps already taken by other teams, but they are just the beginning for the Mets.\\nWhen players arrive at the team’s spring training complex here, they are asked to fill out a five-question survey on an iPad in the training room. The goal is to evaluate how they slept, their mood and their level of soreness, using a body chart to pinpoint the trouble spots. They also record the color of their urine; darker shades of yellow suggest poor hydration .\\nBefore and after each spring training workout or game, players also step on a scale to find out how much water weight was lost through sweating and whether they need to rehydrate with water and other fluids to keep muscles healthy.\\n“More importance has been placed this year on what’s going into our bodies and what’s coming out,” said the Mets outfielder Brandon Nimmo. “It’s really good. We should be paying attention.”\\nSince the end of last season, the Mets have also replaced many longtime officials: their manager (Terry Collins with Mickey Callaway), most of the coaches (notably the pitching coach Dan Warthen with Dave Eiland) and the head athletic trainer (Ray Ramirez with his former assistant Brian Chicklo).\\nJoseph Golia, the Mets’ minor league medical coordinator, was moved up to Chicklo’s old position. A new massage therapist with a focus on deep tissue was hired. The team asked its new dietitian, Maureen Stoecklein, to spend more time around the players. The Mets added new equipment. Coaches and the training staff were more scrupulous about off-season check-ins with players by phone or in person.\\nBut the biggest change was the hiring of Cavallini, whose background is in exercise science and biomechanics. After several stints as a college strength and conditioning coach, Cavallini said he spent eight years working with the United States Army Special Operations Command in Fort Bragg, N.C., as a contractor for EXOS, a private training company.\\nFor the past three years, Cavallini said he oversaw everything connected to a soldier’s performance, from nutrition to training to mental conditioning. The Mets asked him to do the same with their athletes and to ensure that everyone — from their doctors, led by the medical director, David Altchek, and the trainers to the coaches and players — worked together.\\nThe daily iPad questionnaire and weigh-ins were easy ways to improve habits and communication. The data feeds into an automated daily readiness report for Callaway and his coaching staff. That way, unlike before, the decision makers have centralized and up-to-date information on a sluggish player or who has maladies like a sore shoulder.\\n“Communication was the biggest issue we had last year,” Syndergaard said. “That’s greatly improved.”\\nPaul Sewald, a Mets relief pitcher, said coaches are promptly following up on any visit to the training room.\\n“It definitely feels like they’re around more, paying attention more, and instead of being reactionary they are being more proactive,” Blevins said.\\nCavallini said responding to the questionnaire and being weighed in remain voluntary, but players get “We missed you this morning” notices taped in their lockers when they do not complete either.\\nIt helps that Callaway is keenly aware of the medical and training aspects of baseball from his pitching and coaching days. He has preached the value of “prehab,” the stretching or strengthening of the body to prevent injuries, and cut down on idle practice time he thinks leads to injury.\\nNutrition has also been improved in the clubhouse, where players often eat at least twice a day, in coordination with the longtime chef, Theresa Corderi, and Stoecklein, the new dietitian. There is less refined sugar and more lean protein. During a recent spring training lunch, chickpea pasta replaced traditional pasta.\\n“We made an effort to keep a lot of food that they like but also removing the things that are probably going to promote more inflammation than recovery,” Cavallini said.\\nMets General Manager Sandy Alderson said the Mets also are planning to hire a sports scientist with experience in predictive data to analyze all the information the team collects.\\nEventually, Cavallini said, the Mets will incorporate force plates, equipment that can detect hard-to-see irregularities in player’s legs; the data should help improve training or determine days off because of fatigue. Cavallini said the Mets may also offer wearable technology to further measure players’ performance.\\nAlderson said the Mets have even had conceptual discussions about building a minor league pitching lab that could help answer the following questions: “What’s the best way to condition pitchers? What would be improved throwing mechanics? How are we going to develop more pitching?”\\nAlderson said among the ways he would measure the success of the new medical and training staff are improved performance, fewer injuries and better fitness, such as lower body mass index.\\n“Once we establish that player buy-in, a lot of those things will take care of themselves,” Cavallini said. “People will be healthier, they’re going to play more games and the results will come on the field.”\\n\")]"
      ]
     },
     "execution_count": 10,
     "metadata": {},
     "output_type": "execute_result"
    }
   ],
   "source": [
    "NYTRawDataUNKNOWN.takeSample(False,1, seed = 231279)"
   ]
  },
  {
   "cell_type": "code",
   "execution_count": 11,
   "metadata": {},
   "outputs": [],
   "source": [
    "filepath = NYTRawData.map(lambda x:x[0]).collect()"
   ]
  },
  {
   "cell_type": "markdown",
   "metadata": {},
   "source": [
    "#### Filter RDD to Capture Text"
   ]
  },
  {
   "cell_type": "code",
   "execution_count": 12,
   "metadata": {},
   "outputs": [],
   "source": [
    "text = NYTRawData.map(lambda x:x[1]).collect()"
   ]
  },
  {
   "cell_type": "code",
   "execution_count": 13,
   "metadata": {},
   "outputs": [],
   "source": [
    "textUN = NYTRawDataUNKNOWN.map(lambda x:x[1]).collect()"
   ]
  },
  {
   "cell_type": "code",
   "execution_count": null,
   "metadata": {},
   "outputs": [],
   "source": []
  },
  {
   "cell_type": "markdown",
   "metadata": {},
   "source": [
    "#### Convert to DataFrame\n",
    "##### Learning Dataframe = \"df\"\n",
    "##### Unknown Dataframe =\" dfUN\""
   ]
  },
  {
   "cell_type": "code",
   "execution_count": 14,
   "metadata": {},
   "outputs": [],
   "source": [
    "from pyspark.sql.types import Row\n",
    "\n",
    "#here you are going to create a function\n",
    "def f(x):\n",
    "    d = {}\n",
    "    for i in range(len(x)):\n",
    "        d[str(i)] = x[i]\n",
    "    return d\n",
    "\n",
    "#Now populate that\n",
    "df = NYTRawData.map(lambda x: Row(**f(x))).toDF()#.withColumn(\"Label\",lit(\"Politics\"))\n",
    "dfUN = NYTRawDataUNKNOWN.map(lambda x: Row(**f(x))).toDF()"
   ]
  },
  {
   "cell_type": "code",
   "execution_count": 15,
   "metadata": {},
   "outputs": [
    {
     "data": {
      "text/plain": [
       "['0', '1']"
      ]
     },
     "execution_count": 15,
     "metadata": {},
     "output_type": "execute_result"
    }
   ],
   "source": [
    "df.columns"
   ]
  },
  {
   "cell_type": "code",
   "execution_count": 16,
   "metadata": {},
   "outputs": [
    {
     "data": {
      "text/plain": [
       "['0', '1']"
      ]
     },
     "execution_count": 16,
     "metadata": {},
     "output_type": "execute_result"
    }
   ],
   "source": [
    "dfUN.columns"
   ]
  },
  {
   "cell_type": "code",
   "execution_count": 17,
   "metadata": {},
   "outputs": [
    {
     "name": "stdout",
     "output_type": "stream",
     "text": [
      "+--------------------+--------------------+\n",
      "|                   0|                   1|\n",
      "+--------------------+--------------------+\n",
      "|file:/home/h4x3d/...|This Week: Al Pac...|\n",
      "|file:/home/h4x3d/...|Remembering the C...|\n",
      "|file:/home/h4x3d/...|Was Ashlee Simpso...|\n",
      "|file:/home/h4x3d/...|8 Classical Music...|\n",
      "+--------------------+--------------------+\n",
      "only showing top 4 rows\n",
      "\n"
     ]
    }
   ],
   "source": [
    "df.show(4)"
   ]
  },
  {
   "cell_type": "markdown",
   "metadata": {},
   "source": [
    "#### Prepare Learning Dataset for Modeling using Classification Models\n",
    "###### Split Columns to get Category of each Article"
   ]
  },
  {
   "cell_type": "code",
   "execution_count": 18,
   "metadata": {},
   "outputs": [],
   "source": [
    "from pyspark.sql.functions import split\n",
    "split_col = split(df['0'], '/')"
   ]
  },
  {
   "cell_type": "code",
   "execution_count": 19,
   "metadata": {},
   "outputs": [],
   "source": [
    "df = df.withColumn('NAME6', split_col.getItem(6))\n",
    "df = df.withColumn('NAME7', split_col.getItem(7))"
   ]
  },
  {
   "cell_type": "code",
   "execution_count": 20,
   "metadata": {},
   "outputs": [
    {
     "name": "stdout",
     "output_type": "stream",
     "text": [
      "+--------------------+--------------------+------------+-----+\n",
      "|                   0|                   1|       NAME6|NAME7|\n",
      "+--------------------+--------------------+------------+-----+\n",
      "|file:/home/h4x3d/...|This Week: Al Pac...|NYT-articles| arts|\n",
      "|file:/home/h4x3d/...|Remembering the C...|NYT-articles| arts|\n",
      "|file:/home/h4x3d/...|Was Ashlee Simpso...|NYT-articles| arts|\n",
      "|file:/home/h4x3d/...|8 Classical Music...|NYT-articles| arts|\n",
      "|file:/home/h4x3d/...|Brothers Osborne ...|NYT-articles| arts|\n",
      "|file:/home/h4x3d/...|Old Crow Medicine...|NYT-articles| arts|\n",
      "|file:/home/h4x3d/...|Review: A Pulitze...|NYT-articles| arts|\n",
      "|file:/home/h4x3d/...|Review: Jonas Kau...|NYT-articles| arts|\n",
      "|file:/home/h4x3d/...|He Made Kids’ Mus...|NYT-articles| arts|\n",
      "|file:/home/h4x3d/...|10 Treasures, Une...|NYT-articles| arts|\n",
      "|file:/home/h4x3d/...|Music Is a Sanctu...|NYT-articles| arts|\n",
      "|file:/home/h4x3d/...|Heavenly Hymn: Th...|NYT-articles| arts|\n",
      "|file:/home/h4x3d/...|Rafiq Bhatia Is W...|NYT-articles| arts|\n",
      "|file:/home/h4x3d/...|A Pianist’s Big P...|NYT-articles| arts|\n",
      "|file:/home/h4x3d/...|14 Pop, Rock and ...|NYT-articles| arts|\n",
      "|file:/home/h4x3d/...|SummerStage Will ...|NYT-articles| arts|\n",
      "|file:/home/h4x3d/...|‘Parsifal’ Return...|NYT-articles| arts|\n",
      "|file:/home/h4x3d/...|Abreu’s Legacy: T...|NYT-articles| arts|\n",
      "|file:/home/h4x3d/...|The Pianist of th...|NYT-articles| arts|\n",
      "|file:/home/h4x3d/...|SZA Almost Quit M...|NYT-articles| arts|\n",
      "+--------------------+--------------------+------------+-----+\n",
      "only showing top 20 rows\n",
      "\n"
     ]
    }
   ],
   "source": [
    "df.show()"
   ]
  },
  {
   "cell_type": "code",
   "execution_count": 21,
   "metadata": {},
   "outputs": [
    {
     "name": "stdout",
     "output_type": "stream",
     "text": [
      "root\n",
      " |-- 0: string (nullable = true)\n",
      " |-- 1: string (nullable = true)\n",
      " |-- NAME6: string (nullable = true)\n",
      " |-- NAME7: string (nullable = true)\n",
      "\n"
     ]
    }
   ],
   "source": [
    "df.printSchema()"
   ]
  },
  {
   "cell_type": "code",
   "execution_count": 22,
   "metadata": {},
   "outputs": [
    {
     "name": "stdout",
     "output_type": "stream",
     "text": [
      "+--------------------+-----+\n",
      "|                   1|NAME7|\n",
      "+--------------------+-----+\n",
      "|This Week: Al Pac...| arts|\n",
      "|Remembering the C...| arts|\n",
      "|Was Ashlee Simpso...| arts|\n",
      "|8 Classical Music...| arts|\n",
      "|Brothers Osborne ...| arts|\n",
      "+--------------------+-----+\n",
      "only showing top 5 rows\n",
      "\n",
      "root\n",
      " |-- 1: string (nullable = true)\n",
      " |-- NAME7: string (nullable = true)\n",
      "\n"
     ]
    }
   ],
   "source": [
    "drop_list = ['0', 'NAME6']#, 'DayOfWeek', 'PdDistrict', 'Resolution', 'Address', 'X', 'Y']\n",
    "df = df.select([column for column in df.columns if column not in drop_list])\n",
    "df.show(5)\n",
    "df.printSchema()"
   ]
  },
  {
   "cell_type": "code",
   "execution_count": 23,
   "metadata": {},
   "outputs": [
    {
     "name": "stdout",
     "output_type": "stream",
     "text": [
      "+--------------------+--------+\n",
      "|             Article|Category|\n",
      "+--------------------+--------+\n",
      "|This Week: Al Pac...|    arts|\n",
      "|Remembering the C...|    arts|\n",
      "|Was Ashlee Simpso...|    arts|\n",
      "|8 Classical Music...|    arts|\n",
      "|Brothers Osborne ...|    arts|\n",
      "|Old Crow Medicine...|    arts|\n",
      "|Review: A Pulitze...|    arts|\n",
      "|Review: Jonas Kau...|    arts|\n",
      "|He Made Kids’ Mus...|    arts|\n",
      "|10 Treasures, Une...|    arts|\n",
      "|Music Is a Sanctu...|    arts|\n",
      "|Heavenly Hymn: Th...|    arts|\n",
      "|Rafiq Bhatia Is W...|    arts|\n",
      "|A Pianist’s Big P...|    arts|\n",
      "|14 Pop, Rock and ...|    arts|\n",
      "|SummerStage Will ...|    arts|\n",
      "|‘Parsifal’ Return...|    arts|\n",
      "|Abreu’s Legacy: T...|    arts|\n",
      "|The Pianist of th...|    arts|\n",
      "|SZA Almost Quit M...|    arts|\n",
      "+--------------------+--------+\n",
      "only showing top 20 rows\n",
      "\n"
     ]
    }
   ],
   "source": [
    "\n",
    "from pyspark.sql.functions import col\n",
    "df = df.select(col(\"1\").alias(\"Article\"), col(\"NAME7\").alias(\"Category\"))\n",
    "df.show()"
   ]
  },
  {
   "cell_type": "code",
   "execution_count": 24,
   "metadata": {},
   "outputs": [
    {
     "name": "stdout",
     "output_type": "stream",
     "text": [
      "+--------------------+--------+\n",
      "|             Article|Category|\n",
      "+--------------------+--------+\n",
      "|This Week: Al Pac...|    arts|\n",
      "|Remembering the C...|    arts|\n",
      "|Was Ashlee Simpso...|    arts|\n",
      "|8 Classical Music...|    arts|\n",
      "|Brothers Osborne ...|    arts|\n",
      "|Old Crow Medicine...|    arts|\n",
      "|Review: A Pulitze...|    arts|\n",
      "|Review: Jonas Kau...|    arts|\n",
      "|He Made Kids’ Mus...|    arts|\n",
      "|10 Treasures, Une...|    arts|\n",
      "|Music Is a Sanctu...|    arts|\n",
      "|Heavenly Hymn: Th...|    arts|\n",
      "|Rafiq Bhatia Is W...|    arts|\n",
      "|A Pianist’s Big P...|    arts|\n",
      "|14 Pop, Rock and ...|    arts|\n",
      "|SummerStage Will ...|    arts|\n",
      "|‘Parsifal’ Return...|    arts|\n",
      "|Abreu’s Legacy: T...|    arts|\n",
      "|The Pianist of th...|    arts|\n",
      "|SZA Almost Quit M...|    arts|\n",
      "|Review: American ...|    arts|\n",
      "|Logic, XXXTentaci...|    arts|\n",
      "|Meek Mill Is Rele...|    arts|\n",
      "|Pop, Rock and Jaz...|    arts|\n",
      "|Kendrick Lamar Wi...|    arts|\n",
      "|Cardi B Arrives a...|    arts|\n",
      "|Can Classical Mus...|    arts|\n",
      "|How a Philly Chee...|    arts|\n",
      "|Review: An Orches...|    arts|\n",
      "|Review: Meredith ...|    arts|\n",
      "|Watch Unearthed F...|    arts|\n",
      "|The Caramoor Fest...|    arts|\n",
      "|A Room-Size Paint...|    arts|\n",
      "|Seattle Radio Sta...|    arts|\n",
      "|Pop, Rock and Jaz...|    arts|\n",
      "|‘The Sound of Mus...|    arts|\n",
      "|Through Opera, De...|    arts|\n",
      "|Review: Two Maste...|    arts|\n",
      "|Gender Diversity ...|    arts|\n",
      "|Ashlee Simpson: Y...|    arts|\n",
      "|The New York Phil...|    arts|\n",
      "|6 Classical Music...|    arts|\n",
      "|A New Gay Opera: ...|    arts|\n",
      "|Past and Present,...|    arts|\n",
      "|‘The Middle’: Wat...|    arts|\n",
      "|Review: A Pianist...|    arts|\n",
      "|Kendrick Lamar Sh...|    arts|\n",
      "|15 Pop, Rock and ...|    arts|\n",
      "|7 Classical Music...|    arts|\n",
      "|Bon Jovi Falls a ...|    arts|\n",
      "|Top Female Music ...|    arts|\n",
      "|Review: An Ecstat...|    arts|\n",
      "|Nervous Dirge: Th...|    arts|\n",
      "|Pop, Rock and Jaz...|    arts|\n",
      "|Review: Ligeti So...|    arts|\n",
      "|Review: ‘Written ...|    arts|\n",
      "|How Do You Teach ...|    arts|\n",
      "|In Days After Gra...|    arts|\n",
      "|Van Morrison Woul...|    arts|\n",
      "|Two Downtown Lumi...|    arts|\n",
      "|Controlled Madnes...|    arts|\n",
      "|Live Nation Rules...|    arts|\n",
      "|Yannick Nézet-Ség...|    arts|\n",
      "|Can the Grammys B...|    arts|\n",
      "|A K-Pop Primer fo...|    arts|\n",
      "|Yannick, Sooner: ...|    arts|\n",
      "|100 Years After D...|    arts|\n",
      "|Pop, Rock and Jaz...|    arts|\n",
      "|Classical Music i...|    arts|\n",
      "|Brian Eno Wants t...|    arts|\n",
      "|6 Classical Music...|    arts|\n",
      "|The Playlist: Pri...|    arts|\n",
      "|In Streaming, One...|    arts|\n",
      "|28 Years After Hi...|    arts|\n",
      "|Kendrick Lamar Gi...|    arts|\n",
      "|‘Breaking Ice’ Ma...|    arts|\n",
      "|14 Pop, Rock and ...|    arts|\n",
      "|7 Classical Music...|    arts|\n",
      "|Review: Globalfes...|    arts|\n",
      "|Cleveland Conquer...|    arts|\n",
      "|Lucy Dacus, Socce...|    arts|\n",
      "|Pop, Rock and Jaz...|    arts|\n",
      "|South by Southwes...|    arts|\n",
      "|How Jonny Greenwo...|    arts|\n",
      "|Border Percussion...|    arts|\n",
      "|Seeking Orchestra...|    arts|\n",
      "|Mourning Cecil Ta...|    arts|\n",
      "|Exquisite Antonac...|    arts|\n",
      "|A Long-Lost Compo...|    arts|\n",
      "|Nico Muhly on the...|    arts|\n",
      "|6 Classical Music...|    arts|\n",
      "|John Zorn’s Club ...|    arts|\n",
      "|6 Classical Music...|    arts|\n",
      "|Review: Two U.S. ...|    arts|\n",
      "|13 Pop, Rock and ...|    arts|\n",
      "|Wye Oak Delves In...|    arts|\n",
      "|Pop, Rock and Jaz...|    arts|\n",
      "|The NME Bows Out ...|    arts|\n",
      "|Hear How ‘Mozart ...|    arts|\n",
      "|Classical Music i...|    arts|\n",
      "|‘Elektra’ Returns...|    arts|\n",
      "|Classical Music i...|    arts|\n",
      "|Lincoln Center’s ...|    arts|\n",
      "|Kacey Musgraves a...|    arts|\n",
      "|Classical Music i...|    arts|\n",
      "|8 Classical Music...|    arts|\n",
      "|8 Classical Music...|    arts|\n",
      "|Classical Music i...|    arts|\n",
      "|‘Così’ at the Met...|    arts|\n",
      "|Review: Beyoncé I...|    arts|\n",
      "|13 Pop, Rock and ...|    arts|\n",
      "|13 Pop, Rock and ...|    arts|\n",
      "|Schubert’s Sonata...|    arts|\n",
      "|The New ‘American...|    arts|\n",
      "|Pop’s Category Ki...|    arts|\n",
      "|Classical Music i...|    arts|\n",
      "|Bristling Energy:...|    arts|\n",
      "|Luigi Nono’s Hars...|    arts|\n",
      "|Scene-Stealing Te...|    arts|\n",
      "|14 Pop, Rock and ...|    arts|\n",
      "|What’s on TV Sund...|    arts|\n",
      "|Indie Rap Veteran...|    arts|\n",
      "|What It’s Like to...|    arts|\n",
      "|Charlie Walk, Rec...|    arts|\n",
      "|The Playlist: Nic...|    arts|\n",
      "|6 Classical Music...|    arts|\n",
      "|Column: US League...|  sports|\n",
      "|A Sports Rodin Wo...|  sports|\n",
      "|Hamilton Says Wen...|  sports|\n",
      "|Celtics, Sixers R...|  sports|\n",
      "|Scott Blackmun Ge...|  sports|\n",
      "|FA Cup Win Not En...|  sports|\n",
      "|AIU Confirms Kipr...|  sports|\n",
      "|Soroka Wins MLB D...|  sports|\n",
      "|The Puzzling Olym...|  sports|\n",
      "|Raptors Eliminate...|  sports|\n",
      "|Capitals, Penguin...|  sports|\n",
      "|Peru Taps Into So...|  sports|\n",
      "|Athletics-AIU Con...|  sports|\n",
      "|Yoenis Cespedes’s...|  sports|\n",
      "|How Big Can the N...|  sports|\n",
      "|NBA Puts Gamers i...|  sports|\n",
      "|Raptors Rested, R...|  sports|\n",
      "|Canada Group Has ...|  sports|\n",
      "|James Scores 43 a...|  sports|\n",
      "|Pitching Again Af...|  sports|\n",
      "|AP Source: Triano...|  sports|\n",
      "|N.B.A. Playoffs: ...|  sports|\n",
      "|Hader Fans 8, Bre...|  sports|\n",
      "|Alexander-Arnold ...|  sports|\n",
      "|No Problem for Fr...|  sports|\n",
      "|Washington Redski...|  sports|\n",
      "|Game 7: Celtics a...|  sports|\n",
      "|Russian Doping Wh...|  sports|\n",
      "|Anderson's 4 RBIs...|  sports|\n",
      "|Hamilton Back on ...|  sports|\n",
      "|NBA Asks Raptors ...|  sports|\n",
      "|Larson Wins 5th C...|  sports|\n",
      "|Israel in a Spin ...|  sports|\n",
      "|Baffert Talks Der...|  sports|\n",
      "|Nighty-Night Dark...|  sports|\n",
      "|Retired NASCAR Dr...|  sports|\n",
      "|Who We Think Will...|  sports|\n",
      "|An Avalanche Swee...|  sports|\n",
      "|The Center of U.S...|  sports|\n",
      "|Altice's French U...|  sports|\n",
      "|Column: Payne's I...|  sports|\n",
      "|David Fizdale Is ...|  sports|\n",
      "|IAAF Legal Expert...|  sports|\n",
      "|N.F.L. Draft 7th ...|  sports|\n",
      "|Whiff of Offense:...|  sports|\n",
      "|U.S. Skaters Stum...|  sports|\n",
      "|I'm Judged Differ...|  sports|\n",
      "|2018 N.F.L. Draft...|  sports|\n",
      "|Column: Knights t...|  sports|\n",
      "|Australia's Peter...|  sports|\n",
      "|Win-Or-Leave Home...|  sports|\n",
      "|Formula One to La...|  sports|\n",
      "|Kristaps Porzingi...|  sports|\n",
      "|Penguins' Malkin ...|  sports|\n",
      "|Baffert Fears Bla...|  sports|\n",
      "|Prospective Wembl...|  sports|\n",
      "|The Daredevils Ab...|  sports|\n",
      "|Audit Finds Misma...|  sports|\n",
      "|Lacrosse Casts It...|  sports|\n",
      "|Rockies Snap Cubs...|  sports|\n",
      "|Jazz Heading Home...|  sports|\n",
      "|Arsenal's Iwobi C...|  sports|\n",
      "|Former Japan Coac...|  sports|\n",
      "|It's Trotz's Move...|  sports|\n",
      "|APNewsBreak: MLB ...|  sports|\n",
      "|Sex, Sport, and W...|  sports|\n",
      "|Home Is Where the...|  sports|\n",
      "|Capitals’ Tom Wil...|  sports|\n",
      "|How Mirai Nagasu ...|  sports|\n",
      "|The Famous Soccer...|  sports|\n",
      "|Tight End Antonio...|  sports|\n",
      "|Brazilian Footbal...|  sports|\n",
      "|Bruins, Flames Go...|  sports|\n",
      "|Doping Whistleblo...|  sports|\n",
      "|Remembering Keith...|  sports|\n",
      "|Late Tying Goals ...|  sports|\n",
      "|IOC to Support Ko...|  sports|\n",
      "|LAFC Wins Home De...|  sports|\n",
      "|Soccer-Hughes Hai...|  sports|\n",
      "|F1 Seeking to Hol...|  sports|\n",
      "|The Golden Knight...|  sports|\n",
      "|Down at Half, Rap...|  sports|\n",
      "|National Anthem P...|  sports|\n",
      "|IOC Plans Medal R...|  sports|\n",
      "|Ohio State Invest...|  sports|\n",
      "|Study: Diversity ...|  sports|\n",
      "|NHL to Return to ...|  sports|\n",
      "|Russ Brandon Resi...|  sports|\n",
      "|LEADING OFF: Mets...|  sports|\n",
      "|Lightning Want to...|  sports|\n",
      "|Paris St Germain ...|  sports|\n",
      "|FANTASY PLAYS: A ...|  sports|\n",
      "|Brighton Ensure S...|  sports|\n",
      "|Column: All Eyes ...|  sports|\n",
      "|Kiprop Says Dopin...|  sports|\n",
      "|German Olympians ...|  sports|\n",
      "|Romo Misses Out o...|  sports|\n",
      "|IAAF Suspends Fiv...|  sports|\n",
      "|Kingham Flirts Wi...|  sports|\n",
      "|Almost 45, Colon ...|  sports|\n",
      "|Column: Time's Up...|  sports|\n",
      "|FANTASY PLAYS: Pi...|  sports|\n",
      "|Semenya Wins 1500...|  sports|\n",
      "|Tradition, Tradit...|  sports|\n",
      "|MPs to Investigat...|  sports|\n",
      "|FIFA Bans Brazili...|  sports|\n",
      "|The Mets’ Posture...|  sports|\n",
      "|Business Highligh...|business|\n",
      "|Highlights: Goldm...|business|\n",
      "|Apple Services Se...|business|\n",
      "|‘He’s a Pit Bull’...|business|\n",
      "|Nokia Close to a ...|business|\n",
      "|Out of Public Vie...|business|\n",
      "|Elliott Says Back...|business|\n",
      "|The C.E.O. Who St...|business|\n",
      "|German Court Rule...|business|\n",
      "|Gary Cohn’s Depar...|business|\n",
      "|Latino Business G...|business|\n",
      "|ADP: Small Busine...|business|\n",
      "|For Panda Express...|business|\n",
      "|Trump, in Davos S...|business|\n",
      "|The Charity Scand...|business|\n",
      "|Pest-Control Owne...|business|\n",
      "|Exclusive-Scotiab...|business|\n",
      "|Going Cashless: M...|business|\n",
      "|Promising Billion...|business|\n",
      "|The WeWork Manife...|business|\n",
      "|Bottom Line for D...|business|\n",
      "|   Raising the Rent\n",
      "|business|\n",
      "|Review: ‘Big Is B...|business|\n",
      "|Trump’s Tariff Pl...|business|\n",
      "|Interserve's 2017...|business|\n",
      "|What Amazon’s New...|business|\n",
      "|London Stock Exch...|business|\n",
      "|HSBC Mandated on ...|business|\n",
      "|Continental May C...|business|\n",
      "|Vista, Maker of A...|business|\n",
      "|My Life in WeWorl...|business|\n",
      "|In N.R.A. Fight, ...|business|\n",
      "|A New Shuttle Ser...|business|\n",
      "|Is Indianapolis C...|business|\n",
      "|Fox News Analyst ...|business|\n",
      "|College Endowment...|business|\n",
      "|The Stock Market ...|business|\n",
      "|China Could Targe...|business|\n",
      "|Euro Zone Economi...|business|\n",
      "|Mueller Wants Tru...|business|\n",
      "|Canada Stock Mark...|business|\n",
      "|Business Highligh...|business|\n",
      "|German Business L...|business|\n",
      "|Gig Economy Busin...|business|\n",
      "|Citigroup Sets Re...|business|\n",
      "|Memo to Qualcomm:...|business|\n",
      "|Making Her Own Wa...|business|\n",
      "|Business Highligh...|business|\n",
      "|Air France Cuts B...|business|\n",
      "|Gun Makers Are Re...|business|\n",
      "|Companies Cut Tie...|business|\n",
      "|Japan April Servi...|business|\n",
      "|Wooing Saudi Busi...|business|\n",
      "|Exclusive: U.S. T...|business|\n",
      "|Hotels Hope That ...|business|\n",
      "|T-Mobile-Sprint D...|business|\n",
      "|More Bank Earning...|business|\n",
      "|BASF Wins Conditi...|business|\n",
      "|IBM Ends 22-Quart...|business|\n",
      "|Broadcom Drops Bi...|business|\n",
      "|Kushner’s Family ...|business|\n",
      "|Puerto Rico’s Pos...|business|\n",
      "|Why a Bigger Dose...|business|\n",
      "|Boeing to Buy Aer...|business|\n",
      "|Unilever to Make ...|business|\n",
      "|Business Highligh...|business|\n",
      "|Kering to Spin Of...|business|\n",
      "|Just a Few Custom...|business|\n",
      "|Broadcom’s Bid fo...|business|\n",
      "|For Tesla, ‘Produ...|business|\n",
      "|A Battle Over Tra...|business|\n",
      "|UK Grocery Merger...|business|\n",
      "|White House Aides...|politics|\n",
      "|Left vs. Left: Ri...|politics|\n",
      "|In John Bolton, T...|politics|\n",
      "|AP Explains: 1MDB...|politics|\n",
      "|Australians Are t...|politics|\n",
      "|Nancy Pelosi Want...|politics|\n",
      "|The Actress, the ...|politics|\n",
      "|On ‘Big Brother,’...|politics|\n",
      "|The Politics Behi...|politics|\n",
      "|Kelly Finds Himse...|politics|\n",
      "|Obama in Talks to...|politics|\n",
      "|V.A. Medical Syst...|politics|\n",
      "|Talking Politics ...|politics|\n",
      "|Supreme Court Won...|politics|\n",
      "|Actually, Nationa...|politics|\n",
      "|The Scion of a Pa...|politics|\n",
      "|Latin America’s F...|politics|\n",
      "|Justice Departmen...|politics|\n",
      "|Can Australia Reg...|politics|\n",
      "|Why Silicon Valle...|politics|\n",
      "|Goodbye Castros, ...|politics|\n",
      "|#MeToo Has Done W...|politics|\n",
      "|Venturing Into th...|politics|\n",
      "|Elizabeth Esty, S...|politics|\n",
      "|After Garland Def...|politics|\n",
      "|California Today:...|politics|\n",
      "|Money, Politics a...|politics|\n",
      "|Even by Trump Sta...|politics|\n",
      "|The Women Behind ...|politics|\n",
      "|Trump and Macron’...|politics|\n",
      "|ICE Leader, Advoc...|politics|\n",
      "|The Gendered Poli...|politics|\n",
      "|Let Us Catch You ...|politics|\n",
      "|Just How Bad Is P...|politics|\n",
      "|At a Public Schoo...|politics|\n",
      "|The G.O.P.’s Doom...|politics|\n",
      "|Trump Attacks Ama...|politics|\n",
      "|Tough Choices, an...|politics|\n",
      "|Sessions Won’t Sa...|politics|\n",
      "|Trump’s Blood Spo...|politics|\n",
      "|No Result Yet in ...|politics|\n",
      "|Training Early fo...|politics|\n",
      "|A Different Persp...|politics|\n",
      "|Why Iranian Women...|politics|\n",
      "|How Trump Consult...|politics|\n",
      "|A Wave of Young W...|politics|\n",
      "|Trump and the Tru...|politics|\n",
      "|Scott Pruitt Test...|politics|\n",
      "|Christopher Lidde...|politics|\n",
      "|In a Very Differe...|politics|\n",
      "|Ryan Reinstates H...|politics|\n",
      "|Andrew McCabe, a ...|politics|\n",
      "|‘Democracy’ Still...|politics|\n",
      "|Ronny Jackson, Fa...|politics|\n",
      "|Ex-Chief of C.I.A...|politics|\n",
      "|Can Peru’s Democr...|politics|\n",
      "|A New Italy, Imag...|politics|\n",
      "|Is Identity Polit...|politics|\n",
      "|In Indiana and Be...|politics|\n",
      "|Meg Wolitzer’s Ne...|politics|\n",
      "|Trump Calls on Mo...|politics|\n",
      "|Who Is Conor Lamb...|politics|\n",
      "|San Francisco Ous...|politics|\n",
      "|She Didn’t Own a ...|politics|\n",
      "|The Biggest Stori...|politics|\n",
      "|In Trump’s White ...|politics|\n",
      "|Do Trump’s ‘Appro...|politics|\n",
      "|Trump’s Role in M...|politics|\n",
      "|Mayor Wants City ...|politics|\n",
      "|New Revelations S...|politics|\n",
      "|N. American World...|politics|\n",
      "|Goals on the Ice ...|politics|\n",
      "|Trump Eyes Replac...|politics|\n",
      "|Teaching Activiti...|politics|\n",
      "|Menendez Is ‘Seve...|politics|\n",
      "|A Conservative Ca...|politics|\n",
      "|Trump Lawyer Says...|politics|\n",
      "|How Millennials A...|politics|\n",
      "|Trump’s Cynical U...|politics|\n",
      "|Trump’s New Judic...|politics|\n",
      "|Buzzed: The Polit...|politics|\n",
      "|Despite Mueller’s...|politics|\n",
      "|Iraqi Artifacts O...|politics|\n",
      "|Trump’s Problem I...|politics|\n",
      "|Veterans Affairs ...|politics|\n",
      "|Creepy or Not? Yo...|politics|\n",
      "|Fund-Raiser Held ...|politics|\n",
      "|Fake News Crosses...|politics|\n",
      "|How Mexican Direc...|politics|\n",
      "|For Many, Life in...|politics|\n",
      "|For Korea Inc., M...|politics|\n",
      "|How the Pro-Life ...|politics|\n",
      "|U.S. Transfers Fi...|politics|\n",
      "|Texas Democrats S...|politics|\n",
      "|‘We’ll See,’ Trum...|politics|\n",
      "|Cambridge Analyti...|politics|\n",
      "|Sam Nunberg Cut L...|politics|\n",
      "|How a Democrat Su...|politics|\n",
      "|Can Teenagers Sav...|politics|\n",
      "|Giuliani Appears ...|politics|\n",
      "|Thomas Luken, Vet...|politics|\n",
      "|‘Toxic Culture’ S...|politics|\n",
      "|Rebekah Mercer Pu...|politics|\n",
      "|A Gunman’s Rampag...|politics|\n",
      "|F.B.I. Letter Cas...|politics|\n",
      "|From Gruesome Tra...|politics|\n",
      "|Veterans Affairs ...|politics|\n",
      "|The Art Exhibitio...|politics|\n",
      "|How Russian Troll...|politics|\n",
      "|In Politics if No...|politics|\n",
      "|Bolton Was Early ...|politics|\n",
      "|In Mexico, Trump’...|politics|\n",
      "|Recipe for Ruckus...|politics|\n",
      "|Trump’s Former Do...|politics|\n",
      "|Obama Portraits B...|politics|\n",
      "|‘Scarlet A’ Wants...|politics|\n",
      "|Why the Creator o...|politics|\n",
      "|Cynthia Nixon’s C...|politics|\n",
      "|Giuliani Says Tru...|politics|\n",
      "|The True Source o...|politics|\n",
      "|Politics Comes to...|politics|\n",
      "|Firing of House C...|politics|\n",
      "|American Politics...|politics|\n",
      "|The Politics of W...|politics|\n",
      "|The Politics of S...|politics|\n",
      "|Giuliani’s Bark M...|politics|\n",
      "|Will Anthony Kenn...|politics|\n",
      "|The Delicate Poli...|politics|\n",
      "|Linda McMahon Get...|politics|\n",
      "|Is Trump Giving A...|politics|\n",
      "|How an N.F.L. Pla...|politics|\n",
      "|Geo-Politics Hang...|politics|\n",
      "|Spirits, Culture ...|politics|\n",
      "|From Museums to M...|politics|\n",
      "|Wave of Independe...|politics|\n",
      "|Trump Exaggerates...|politics|\n",
      "|Advertisers Esche...|politics|\n",
      "|Missing Conservat...|politics|\n",
      "|What the Unspoken...|politics|\n",
      "|Mississippi Gover...|politics|\n",
      "|An Ohio Senate Ca...|politics|\n",
      "|Politics Shouldn’...|politics|\n",
      "|Supreme Court, Ag...|politics|\n",
      "|How Does a Politi...|politics|\n",
      "|Bannon’s Deviant ...|politics|\n",
      "|What Border Agent...|politics|\n",
      "|Louise Slaughter ...|politics|\n",
      "+--------------------+--------+\n",
      "\n"
     ]
    }
   ],
   "source": [
    "df.show(500)"
   ]
  },
  {
   "cell_type": "markdown",
   "metadata": {},
   "source": [
    "##### Learning Data Set \n",
    "\n",
    "##### (Collection of approx 589 articles in 4 categories from NYT)"
   ]
  },
  {
   "cell_type": "code",
   "execution_count": 25,
   "metadata": {},
   "outputs": [
    {
     "name": "stdout",
     "output_type": "stream",
     "text": [
      "+--------+-----+\n",
      "|Category|count|\n",
      "+--------+-----+\n",
      "|politics|  147|\n",
      "|    arts|  126|\n",
      "|  sports|  107|\n",
      "|business|   72|\n",
      "+--------+-----+\n",
      "\n"
     ]
    }
   ],
   "source": [
    "from pyspark.sql.functions import col\n",
    "df.groupBy(\"Category\") \\\n",
    "    .count() \\\n",
    "    .orderBy(col(\"count\").desc()) \\\n",
    "    .show()"
   ]
  },
  {
   "cell_type": "markdown",
   "metadata": {},
   "source": [
    "#### Prepare UNKNOWN DataSet for Testing using CLASSIFICATION MODELS"
   ]
  },
  {
   "cell_type": "code",
   "execution_count": 26,
   "metadata": {},
   "outputs": [
    {
     "name": "stdout",
     "output_type": "stream",
     "text": [
      "root\n",
      " |-- 0: string (nullable = true)\n",
      " |-- 1: string (nullable = true)\n",
      " |-- NAME6: string (nullable = true)\n",
      " |-- NAME7: string (nullable = true)\n",
      "\n",
      "+--------+-----+\n",
      "|Category|count|\n",
      "+--------+-----+\n",
      "|  sports|   48|\n",
      "|politics|   41|\n",
      "|    arts|   25|\n",
      "|business|   23|\n",
      "+--------+-----+\n",
      "\n"
     ]
    }
   ],
   "source": [
    "\n",
    "split_col = split(dfUN['0'], '/')\n",
    "dfUN = dfUN.withColumn('NAME6', split_col.getItem(6))\n",
    "dfUN = dfUN.withColumn('NAME7', split_col.getItem(7))\n",
    "dfUN.printSchema()\n",
    "drop_list = ['0', 'NAME6']#, 'DayOfWeek', 'PdDistrict', 'Resolution', 'Address', 'X', 'Y']\n",
    "dfUN = dfUN.select([column for column in dfUN.columns if column not in drop_list])\n",
    "#dfUN.show(5)\n",
    "dfUN = dfUN.select(col(\"1\").alias(\"Article\"), col(\"NAME7\").alias(\"Category\"))\n",
    "#dfUN.show()\n",
    "from pyspark.sql.functions import col\n",
    "dfUN.groupBy(\"Category\") \\\n",
    "    .count() \\\n",
    "    .orderBy(col(\"count\").desc()) \\\n",
    "    .show()"
   ]
  },
  {
   "cell_type": "code",
   "execution_count": null,
   "metadata": {},
   "outputs": [],
   "source": []
  },
  {
   "cell_type": "raw",
   "metadata": {},
   "source": []
  },
  {
   "cell_type": "markdown",
   "metadata": {},
   "source": [
    "### DIvide  Learning Data Set into Training and Test"
   ]
  },
  {
   "cell_type": "code",
   "execution_count": 27,
   "metadata": {},
   "outputs": [
    {
     "name": "stdout",
     "output_type": "stream",
     "text": [
      "Training Dataset Count: 369\n",
      "Test Dataset Count: 83\n"
     ]
    }
   ],
   "source": [
    "# set seed for reproducibility\n",
    "(trainingData, testData) = df.randomSplit([0.8, 0.2], seed = 231279)\n",
    "print(\"Training Dataset Count: \" + str(trainingData.count()))\n",
    "print(\"Test Dataset Count: \" + str(testData.count()))"
   ]
  },
  {
   "cell_type": "code",
   "execution_count": 28,
   "metadata": {},
   "outputs": [
    {
     "name": "stdout",
     "output_type": "stream",
     "text": [
      "+--------------------+--------+\n",
      "|             Article|Category|\n",
      "+--------------------+--------+\n",
      "|10 Treasures, Une...|    arts|\n",
      "|13 Pop, Rock and ...|    arts|\n",
      "|13 Pop, Rock and ...|    arts|\n",
      "|13 Pop, Rock and ...|    arts|\n",
      "|14 Pop, Rock and ...|    arts|\n",
      "|14 Pop, Rock and ...|    arts|\n",
      "|14 Pop, Rock and ...|    arts|\n",
      "|2018 N.F.L. Draft...|  sports|\n",
      "|28 Years After Hi...|    arts|\n",
      "|6 Classical Music...|    arts|\n",
      "|6 Classical Music...|    arts|\n",
      "|6 Classical Music...|    arts|\n",
      "|6 Classical Music...|    arts|\n",
      "|7 Classical Music...|    arts|\n",
      "|7 Classical Music...|    arts|\n",
      "|8 Classical Music...|    arts|\n",
      "|8 Classical Music...|    arts|\n",
      "|8 Classical Music...|    arts|\n",
      "|A K-Pop Primer fo...|    arts|\n",
      "|A Long-Lost Compo...|    arts|\n",
      "+--------------------+--------+\n",
      "only showing top 20 rows\n",
      "\n"
     ]
    }
   ],
   "source": [
    "trainingData.show()"
   ]
  },
  {
   "cell_type": "code",
   "execution_count": 29,
   "metadata": {},
   "outputs": [
    {
     "name": "stdout",
     "output_type": "stream",
     "text": [
      "+--------------------+--------+\n",
      "|             Article|Category|\n",
      "+--------------------+--------+\n",
      "|100 Years After D...|    arts|\n",
      "|15 Pop, Rock and ...|    arts|\n",
      "|6 Classical Music...|    arts|\n",
      "|Arsenal's Iwobi C...|  sports|\n",
      "|Brazilian Footbal...|  sports|\n",
      "|Brian Eno Wants t...|    arts|\n",
      "|Classical Music i...|    arts|\n",
      "|Exquisite Antonac...|    arts|\n",
      "|FIFA Bans Brazili...|  sports|\n",
      "|Formula One to La...|  sports|\n",
      "|Heavenly Hymn: Th...|    arts|\n",
      "|Highlights: Goldm...|business|\n",
      "|Home Is Where the...|  sports|\n",
      "|How Big Can the N...|  sports|\n",
      "|I'm Judged Differ...|  sports|\n",
      "|IAAF Legal Expert...|  sports|\n",
      "|James Scores 43 a...|  sports|\n",
      "|Lincoln Center’s ...|    arts|\n",
      "|Meek Mill Is Rele...|    arts|\n",
      "|NBA Asks Raptors ...|  sports|\n",
      "+--------------------+--------+\n",
      "only showing top 20 rows\n",
      "\n"
     ]
    }
   ],
   "source": [
    "testData.show()"
   ]
  },
  {
   "cell_type": "markdown",
   "metadata": {},
   "source": [
    "#### DISPLAY UNknown DF"
   ]
  },
  {
   "cell_type": "code",
   "execution_count": 30,
   "metadata": {
    "scrolled": true
   },
   "outputs": [
    {
     "name": "stdout",
     "output_type": "stream",
     "text": [
      "+--------------------+--------+\n",
      "|             Article|Category|\n",
      "+--------------------+--------+\n",
      "|Review: Evgeny Ki...|    arts|\n",
      "|Spinning Melody: ...|    arts|\n",
      "|An Orchestra’s Ec...|    arts|\n",
      "|J. Cole to Launch...|    arts|\n",
      "|Nora Fischer Burs...|    arts|\n",
      "|5 ‘Schoolhouse Ro...|    arts|\n",
      "|14 Pop, Rock and ...|    arts|\n",
      "|R. Kelly Again De...|    arts|\n",
      "|A Tone Parallel t...|    arts|\n",
      "|Pirate Radio Stat...|    arts|\n",
      "|Review: Dudamel a...|    arts|\n",
      "|Tumult at an Ital...|    arts|\n",
      "|7 Classical Music...|    arts|\n",
      "|R. Kelly Faces a ...|    arts|\n",
      "|San Francisco Con...|    arts|\n",
      "|The Playlist: Chr...|    arts|\n",
      "|Review: Odd, Deli...|    arts|\n",
      "|Liz Phair Is Not ...|    arts|\n",
      "|The Playlist: Wil...|    arts|\n",
      "|14 Pop, Rock and ...|    arts|\n",
      "+--------------------+--------+\n",
      "only showing top 20 rows\n",
      "\n"
     ]
    }
   ],
   "source": [
    "dfUN.show()"
   ]
  },
  {
   "cell_type": "markdown",
   "metadata": {},
   "source": [
    "## Classification  Using Logistic Regression\n",
    "**LogisticRegression** is a method used to predict a binary response. The current implementation of logistic regression in spark.ml only supports binary classes. Support for multiclass regression will be added in the future.\n",
    "### Train the Learning Dataset (TRAIN And TEst)\n",
    "### Build Pipeline using TF IDF \n",
    "\n",
    "In machine learning, it is common to run a sequence of algorithms to process and learn from data. Spark ML represents such a workflow as a Pipeline, which consists of a sequence of PipelineStages (Transformers and Estimators) to be run in a specific order. The pipeline we are using in this example consists of four stages: Tokenizer, StopWordsRemover, HashingTF, Inverse Document Frequency (IDF) and LogisticRegression.\n",
    "\n",
    "**Tokenizer** splits the raw text documents into words, adding a new column with words into the dataset.\n",
    "\n",
    "**StopWordsRemover** takes as input a sequence of strings and drops all the stop words from the input sequences. Stop words are words which should be excluded from the input, typically because the words appear frequently and don’t carry as much meaning. A list of stop words by default. Optionally you can provide a list of stopwords. We will just use the defualt list of stopwords.\n",
    "\n",
    "**HashingTF** takes sets of terms and converts those sets into fixed-length feature vectors. \n",
    "\n",
    "**Inverse Document Frequency (IDF)** is a numerical measure of how much information a term provides. If a term appears very often across the corpus, it means it doesn’t carry special information about a particular document. IDF down-weights terms which appear frequently in a corpus.\n",
    "\n",
    "\n",
    "\n",
    "###### Our model will make predictions and score on the test set; we then look at the top 10 predictions from the highest probability."
   ]
  },
  {
   "cell_type": "code",
   "execution_count": 31,
   "metadata": {},
   "outputs": [],
   "source": [
    "from pyspark.ml.feature import RegexTokenizer"
   ]
  },
  {
   "cell_type": "code",
   "execution_count": 32,
   "metadata": {},
   "outputs": [],
   "source": [
    "regexTokenizer = RegexTokenizer(inputCol=\"Article\", outputCol=\"words\", pattern=\"\\\\W\")\n",
    "remover = StopWordsRemover(inputCol=\"words\", outputCol=\"filtered\")\n",
    "add_stopwords = [\"http\",\"https\",\"amp\",\"rt\",\"t\",\"c\",\"the\"] \n",
    "stopwordsRemover = StopWordsRemover(inputCol=\"words\", outputCol=\"filtered\").setStopWords(add_stopwords)\n",
    "hashingTF = HashingTF(inputCol=\"filtered\", outputCol=\"rawFeatures\", numFeatures=10000)\n",
    "idf = IDF(inputCol=\"rawFeatures\", outputCol=\"features\", minDocFreq=5)\n",
    "lr = LogisticRegression(maxIter=20, regParam=0.3, elasticNetParam=0)"
   ]
  },
  {
   "cell_type": "code",
   "execution_count": 33,
   "metadata": {},
   "outputs": [],
   "source": [
    "from pyspark.ml.feature import OneHotEncoder, StringIndexer, VectorAssembler\n",
    "label_stringIdx = StringIndexer(inputCol = \"Category\", outputCol = \"label\")"
   ]
  },
  {
   "cell_type": "markdown",
   "metadata": {},
   "source": [
    "### Define Learning Model"
   ]
  },
  {
   "cell_type": "code",
   "execution_count": 34,
   "metadata": {},
   "outputs": [],
   "source": [
    "pipeline = Pipeline(stages=[regexTokenizer, remover, hashingTF, idf, label_stringIdx, lr])"
   ]
  },
  {
   "cell_type": "code",
   "execution_count": 35,
   "metadata": {},
   "outputs": [],
   "source": [
    "model = pipeline.fit(trainingData)\n"
   ]
  },
  {
   "cell_type": "markdown",
   "metadata": {},
   "source": [
    "### Train the Model using Logistic Regression"
   ]
  },
  {
   "cell_type": "code",
   "execution_count": 36,
   "metadata": {
    "scrolled": true
   },
   "outputs": [
    {
     "name": "stdout",
     "output_type": "stream",
     "text": [
      "+--------------------+--------------------+-----+--------------------+----------+\n",
      "|               words|            features|label|         probability|prediction|\n",
      "+--------------------+--------------------+-----+--------------------+----------+\n",
      "|[10, treasures, u...|(10000,[8,30,44,6...|  1.0|[0.01056133801902...|       1.0|\n",
      "|[13, pop, rock, a...|(10000,[43,47,56,...|  1.0|[8.30472345846618...|       1.0|\n",
      "|[13, pop, rock, a...|(10000,[30,53,73,...|  1.0|[0.00174489567721...|       1.0|\n",
      "|[13, pop, rock, a...|(10000,[7,42,43,7...|  1.0|[0.00227054880856...|       1.0|\n",
      "|[14, pop, rock, a...|(10000,[7,12,38,4...|  1.0|[6.75667054652320...|       1.0|\n",
      "|[14, pop, rock, a...|(10000,[7,30,34,4...|  1.0|[0.00146082138661...|       1.0|\n",
      "|[14, pop, rock, a...|(10000,[7,15,16,3...|  1.0|[0.00102699729954...|       1.0|\n",
      "|[2018, n, f, l, d...|(10000,[7,26,50,5...|  2.0|[0.00484466911722...|       2.0|\n",
      "|[28, years, after...|(10000,[47,55,90,...|  1.0|[0.03321213909407...|       1.0|\n",
      "|[6, classical, mu...|(10000,[47,68,72,...|  1.0|[0.00869888987935...|       1.0|\n",
      "|[6, classical, mu...|(10000,[24,47,78,...|  1.0|[0.00499411238938...|       1.0|\n",
      "|[6, classical, mu...|(10000,[7,10,20,4...|  1.0|[0.00851489489066...|       1.0|\n",
      "|[6, classical, mu...|(10000,[47,86,107...|  1.0|[0.00918133353236...|       1.0|\n",
      "|[7, classical, mu...|(10000,[47,86,120...|  1.0|[0.00992532062538...|       1.0|\n",
      "|[7, classical, mu...|(10000,[1,41,47,8...|  1.0|[0.01225823237894...|       1.0|\n",
      "|[8, classical, mu...|(10000,[1,47,55,8...|  1.0|[0.00365975403591...|       1.0|\n",
      "|[8, classical, mu...|(10000,[47,78,86,...|  1.0|[0.00919574607677...|       1.0|\n",
      "|[8, classical, mu...|(10000,[47,78,86,...|  1.0|[0.00853939780598...|       1.0|\n",
      "|[a, k, pop, prime...|(10000,[7,90,144,...|  1.0|[0.01521244403292...|       1.0|\n",
      "|[a, long, lost, c...|(10000,[9,23,55,1...|  1.0|[0.00669898611343...|       1.0|\n",
      "+--------------------+--------------------+-----+--------------------+----------+\n",
      "only showing top 20 rows\n",
      "\n"
     ]
    }
   ],
   "source": [
    "lrdata = model.transform(trainingData).select(\"words\",\"features\",\"label\",\"probability\",\"prediction\").show()"
   ]
  },
  {
   "cell_type": "markdown",
   "metadata": {},
   "source": [
    "### Perform Prediction on TEST Data"
   ]
  },
  {
   "cell_type": "code",
   "execution_count": 37,
   "metadata": {},
   "outputs": [],
   "source": [
    "predictions = model.transform(testData)"
   ]
  },
  {
   "cell_type": "code",
   "execution_count": 38,
   "metadata": {},
   "outputs": [
    {
     "name": "stdout",
     "output_type": "stream",
     "text": [
      "+--------+------------------------------+------------------------------+-----+----------+\n",
      "|Category|                      features|                   probability|label|prediction|\n",
      "+--------+------------------------------+------------------------------+-----+----------+\n",
      "|  sports|(10000,[47,156,453,507,547,...|[0.2903560737770349,0.35099...|  2.0|       1.0|\n",
      "|    arts|(10000,[7,23,157,176,360,37...|[0.28155074196766117,0.5410...|  1.0|       1.0|\n",
      "|    arts|(10000,[47,157,171,222,246,...|[0.27310567965008115,0.3728...|  1.0|       1.0|\n",
      "|    arts|(10000,[7,21,23,49,86,101,1...|[0.25400775422788713,0.6418...|  1.0|       1.0|\n",
      "|politics|(10000,[42,44,47,65,77,78,8...|[0.2529387163677332,0.72040...|  0.0|       1.0|\n",
      "|    arts|(10000,[86,120,181,223,263,...|[0.2148214822506446,0.52279...|  1.0|       1.0|\n",
      "|    arts|(10000,[3,7,9,27,51,53,84,1...|[0.17019379982059185,0.7526...|  1.0|       1.0|\n",
      "|    arts|(10000,[24,30,33,157,165,16...|[0.16436852041379732,0.6711...|  1.0|       1.0|\n",
      "|    arts|(10000,[15,47,88,90,244,250...|[0.1476910482838402,0.61662...|  1.0|       1.0|\n",
      "|    arts|(10000,[1,7,17,24,55,70,83,...|[0.14517027773004168,0.6429...|  1.0|       1.0|\n",
      "+--------+------------------------------+------------------------------+-----+----------+\n",
      "only showing top 10 rows\n",
      "\n"
     ]
    }
   ],
   "source": [
    "predictions.filter(predictions['prediction'] == 1) \\\n",
    "    .select(\"Category\",\"features\",\"probability\",\"label\",\"prediction\") \\\n",
    "    .orderBy(\"probability\", ascending=False) \\\n",
    "    .show(n = 10, truncate = 30)"
   ]
  },
  {
   "cell_type": "markdown",
   "metadata": {},
   "source": [
    "## Accuracy on Test data using Logistic Regression\n",
    "#### Keep in mind that the model has not seen the documents in the test data set."
   ]
  },
  {
   "cell_type": "code",
   "execution_count": 39,
   "metadata": {},
   "outputs": [
    {
     "data": {
      "text/plain": [
       "0.9273862430286162"
      ]
     },
     "execution_count": 39,
     "metadata": {},
     "output_type": "execute_result"
    }
   ],
   "source": [
    "from pyspark.ml.evaluation import MulticlassClassificationEvaluator\n",
    "evaluator = MulticlassClassificationEvaluator(predictionCol=\"prediction\")\n",
    "evaluator.evaluate(predictions)"
   ]
  },
  {
   "cell_type": "markdown",
   "metadata": {},
   "source": [
    "## Accuracy of UNKNOWN Data using Logistic Regression\n",
    "#### Keep in mind that the model has not seen the documents in the Unknown data set."
   ]
  },
  {
   "cell_type": "code",
   "execution_count": 40,
   "metadata": {},
   "outputs": [
    {
     "name": "stdout",
     "output_type": "stream",
     "text": [
      "+--------+------------------------------+------------------------------+-----+----------+\n",
      "|Category|                      features|                   probability|label|prediction|\n",
      "+--------+------------------------------+------------------------------+-----+----------+\n",
      "|politics|(10000,[7,23,30,73,79,141,1...|[0.4035061967225257,0.49144...|  0.0|       1.0|\n",
      "|    arts|(10000,[58,120,228,301,360,...|[0.1966187214074345,0.43803...|  1.0|       1.0|\n",
      "|    arts|(10000,[47,102,135,157,196,...|[0.18654258052313855,0.5895...|  1.0|       1.0|\n",
      "|    arts|(10000,[30,88,120,128,144,1...|[0.1757850896509791,0.65941...|  1.0|       1.0|\n",
      "|    arts|(10000,[7,15,24,55,58,79,91...|[0.12225574536393546,0.7459...|  1.0|       1.0|\n",
      "|    arts|(10000,[30,134,144,157,266,...|[0.11433150440957886,0.8018...|  1.0|       1.0|\n",
      "|    arts|(10000,[15,30,53,70,132,157...|[0.09384819774133632,0.5764...|  1.0|       1.0|\n",
      "|    arts|(10000,[1,30,68,70,88,102,1...|[0.08182519273160171,0.8120...|  1.0|       1.0|\n",
      "|    arts|(10000,[6,7,15,20,24,30,52,...|[0.06141610989765613,0.9189...|  1.0|       1.0|\n",
      "|    arts|(10000,[1,15,23,47,55,72,73...|[0.05205495750254163,0.8711...|  1.0|       1.0|\n",
      "+--------+------------------------------+------------------------------+-----+----------+\n",
      "only showing top 10 rows\n",
      "\n"
     ]
    },
    {
     "data": {
      "text/plain": [
       "0.8999603112974754"
      ]
     },
     "execution_count": 40,
     "metadata": {},
     "output_type": "execute_result"
    }
   ],
   "source": [
    "predictions = model.transform(dfUN)\n",
    "predictions.filter(predictions['prediction'] == 1) \\\n",
    "    .select(\"Category\",\"features\",\"probability\",\"label\",\"prediction\") \\\n",
    "    .orderBy(\"probability\", ascending=False) \\\n",
    "    .show(n = 10, truncate = 30)\n",
    "from pyspark.ml.evaluation import MulticlassClassificationEvaluator\n",
    "evaluator = MulticlassClassificationEvaluator(predictionCol=\"prediction\")\n",
    "evaluator.evaluate(predictions)"
   ]
  },
  {
   "cell_type": "markdown",
   "metadata": {},
   "source": [
    "## CLASSIFICATION USING \"NAIVE BAYES\"\n",
    "### RANDOM SPLIT DATA AGAIN\n",
    "### DEFINE PIPELINE\n",
    "### TRAIN MODEL"
   ]
  },
  {
   "cell_type": "code",
   "execution_count": 41,
   "metadata": {},
   "outputs": [],
   "source": [
    "from pyspark.ml.classification import NaiveBayes\n",
    "(trainingData2, testData2) = df.randomSplit([0.8, 0.2], seed = 231279)\n",
    "nb = NaiveBayes(smoothing=1)\n",
    "pipelinenb = Pipeline(stages=[regexTokenizer, remover, hashingTF, idf, label_stringIdx, nb])\n",
    "\n",
    "model = pipelinenb.fit(trainingData2)\n"
   ]
  },
  {
   "cell_type": "code",
   "execution_count": 42,
   "metadata": {
    "scrolled": true
   },
   "outputs": [
    {
     "name": "stdout",
     "output_type": "stream",
     "text": [
      "+--------------------+--------------------+-----+--------------------+----------+\n",
      "|               words|            features|label|         probability|prediction|\n",
      "+--------------------+--------------------+-----+--------------------+----------+\n",
      "|[10, treasures, u...|(10000,[8,30,44,6...|  1.0|   [0.0,1.0,0.0,0.0]|       1.0|\n",
      "|[13, pop, rock, a...|(10000,[43,47,56,...|  1.0|   [0.0,1.0,0.0,0.0]|       1.0|\n",
      "|[13, pop, rock, a...|(10000,[30,53,73,...|  1.0|   [0.0,1.0,0.0,0.0]|       1.0|\n",
      "|[13, pop, rock, a...|(10000,[7,42,43,7...|  1.0|   [0.0,1.0,0.0,0.0]|       1.0|\n",
      "|[14, pop, rock, a...|(10000,[7,12,38,4...|  1.0|   [0.0,1.0,0.0,0.0]|       1.0|\n",
      "|[14, pop, rock, a...|(10000,[7,30,34,4...|  1.0|   [0.0,1.0,0.0,0.0]|       1.0|\n",
      "|[14, pop, rock, a...|(10000,[7,15,16,3...|  1.0|   [0.0,1.0,0.0,0.0]|       1.0|\n",
      "|[2018, n, f, l, d...|(10000,[7,26,50,5...|  2.0|   [0.0,0.0,1.0,0.0]|       2.0|\n",
      "|[28, years, after...|(10000,[47,55,90,...|  1.0|[8.33052300449372...|       1.0|\n",
      "|[6, classical, mu...|(10000,[47,68,72,...|  1.0|   [0.0,1.0,0.0,0.0]|       1.0|\n",
      "|[6, classical, mu...|(10000,[24,47,78,...|  1.0|   [0.0,1.0,0.0,0.0]|       1.0|\n",
      "|[6, classical, mu...|(10000,[7,10,20,4...|  1.0|   [0.0,1.0,0.0,0.0]|       1.0|\n",
      "|[6, classical, mu...|(10000,[47,86,107...|  1.0|   [0.0,1.0,0.0,0.0]|       1.0|\n",
      "|[7, classical, mu...|(10000,[47,86,120...|  1.0|   [0.0,1.0,0.0,0.0]|       1.0|\n",
      "|[7, classical, mu...|(10000,[1,41,47,8...|  1.0|   [0.0,1.0,0.0,0.0]|       1.0|\n",
      "|[8, classical, mu...|(10000,[1,47,55,8...|  1.0|   [0.0,1.0,0.0,0.0]|       1.0|\n",
      "|[8, classical, mu...|(10000,[47,78,86,...|  1.0|   [0.0,1.0,0.0,0.0]|       1.0|\n",
      "|[8, classical, mu...|(10000,[47,78,86,...|  1.0|   [0.0,1.0,0.0,0.0]|       1.0|\n",
      "|[a, k, pop, prime...|(10000,[7,90,144,...|  1.0|   [0.0,1.0,0.0,0.0]|       1.0|\n",
      "|[a, long, lost, c...|(10000,[9,23,55,1...|  1.0|   [0.0,1.0,0.0,0.0]|       1.0|\n",
      "+--------------------+--------------------+-----+--------------------+----------+\n",
      "only showing top 20 rows\n",
      "\n"
     ]
    }
   ],
   "source": [
    "nbdata = model.transform(trainingData).select(\"words\",\"features\",\"label\",\"probability\",\"prediction\").show()"
   ]
  },
  {
   "cell_type": "markdown",
   "metadata": {},
   "source": [
    "### Perform Prediction of TEst Data using Model Trained on \"Naive Bayes\""
   ]
  },
  {
   "cell_type": "code",
   "execution_count": 43,
   "metadata": {},
   "outputs": [
    {
     "name": "stdout",
     "output_type": "stream",
     "text": [
      "+--------+------------------------------+------------------------------+-----+----------+\n",
      "|Category|                      features|                   probability|label|prediction|\n",
      "+--------+------------------------------+------------------------------+-----+----------+\n",
      "|    arts|(10000,[15,73,152,193,228,2...|[1.0,2.3380926537918186E-47...|  1.0|       0.0|\n",
      "|politics|(10000,[7,23,27,52,56,63,78...|[1.0,5.138151438246802E-93,...|  0.0|       0.0|\n",
      "|politics|(10000,[52,70,120,132,159,2...|[1.0,2.0101768811056998E-10...|  0.0|       0.0|\n",
      "|politics|(10000,[1,24,32,50,78,88,10...|[1.0,1.0021789169628446E-11...|  0.0|       0.0|\n",
      "|politics|(10000,[20,21,72,86,91,132,...|[1.0,5.547498765932367E-137...|  0.0|       0.0|\n",
      "|  sports|(10000,[62,70,132,152,201,2...|[1.0,1.6886373284652558E-15...|  2.0|       0.0|\n",
      "|business|(10000,[52,55,63,65,70,141,...|[1.0,6.852633350625244E-166...|  3.0|       0.0|\n",
      "|politics|(10000,[55,141,157,264,281,...|[1.0,3.319401254702701E-169...|  0.0|       0.0|\n",
      "|politics|(10000,[7,52,74,86,115,125,...|[1.0,3.162825047838213E-176...|  0.0|       0.0|\n",
      "|politics|(10000,[12,15,21,52,129,132...|[1.0,5.553485789662652E-177...|  0.0|       0.0|\n",
      "+--------+------------------------------+------------------------------+-----+----------+\n",
      "only showing top 10 rows\n",
      "\n"
     ]
    }
   ],
   "source": [
    "predictions = model.transform(testData2)\n",
    "predictions.filter(predictions['prediction'] == 0) \\\n",
    "    .select(\"Category\",\"features\",\"probability\",\"label\",\"prediction\") \\\n",
    "    .orderBy(\"probability\", ascending=False) \\\n",
    "    .show(n = 10, truncate = 30)"
   ]
  },
  {
   "cell_type": "markdown",
   "metadata": {},
   "source": [
    "## Accuracy of Test data Using \"Naive Bayes\"\n",
    "#### Keep in mind that the model has not seen the documents in the test data set."
   ]
  },
  {
   "cell_type": "code",
   "execution_count": 44,
   "metadata": {},
   "outputs": [
    {
     "data": {
      "text/plain": [
       "0.9278184165232357"
      ]
     },
     "execution_count": 44,
     "metadata": {},
     "output_type": "execute_result"
    }
   ],
   "source": [
    "evaluatornb = MulticlassClassificationEvaluator(predictionCol=\"prediction\")\n",
    "evaluatornb.evaluate(predictions)"
   ]
  },
  {
   "cell_type": "markdown",
   "metadata": {},
   "source": [
    "## Accuracy of UNKNOWN data Using \"Naive Bayes\"\n",
    "#### Keep in mind that the model has not seen the documents in the Unknown data set."
   ]
  },
  {
   "cell_type": "code",
   "execution_count": 45,
   "metadata": {},
   "outputs": [
    {
     "name": "stdout",
     "output_type": "stream",
     "text": [
      "+--------+------------------------------+------------------------------+-----+----------+\n",
      "|Category|                      features|                   probability|label|prediction|\n",
      "+--------+------------------------------+------------------------------+-----+----------+\n",
      "|    arts|(10000,[7,11,54,106,122,130...|[1.0,7.258982972147812E-35,...|  1.0|       0.0|\n",
      "|politics|(10000,[11,24,32,42,80,141,...|[1.0,1.4634083509444678E-73...|  0.0|       0.0|\n",
      "|  sports|(10000,[0,7,46,132,161,266,...|[1.0,9.616706063445867E-81,...|  2.0|       0.0|\n",
      "|    arts|(10000,[36,70,125,196,221,2...|[1.0,8.005113533032365E-82,...|  1.0|       0.0|\n",
      "|    arts|(10000,[23,42,157,160,209,2...|[1.0,3.2902687791451117E-90...|  1.0|       0.0|\n",
      "|  sports|(10000,[120,128,132,196,229...|[1.0,3.1129315376896888E-11...|  2.0|       0.0|\n",
      "|politics|(10000,[23,51,78,103,120,13...|[1.0,5.5326675419587386E-11...|  0.0|       0.0|\n",
      "|  sports|(10000,[20,45,52,55,92,123,...|[1.0,3.400038547281304E-124...|  2.0|       0.0|\n",
      "|politics|(10000,[52,87,132,158,188,2...|[1.0,4.7682696819017155E-15...|  0.0|       0.0|\n",
      "|politics|(10000,[8,21,30,58,132,157,...|[1.0,1.0953060162210487E-20...|  0.0|       0.0|\n",
      "+--------+------------------------------+------------------------------+-----+----------+\n",
      "only showing top 10 rows\n",
      "\n"
     ]
    },
    {
     "data": {
      "text/plain": [
       "0.8849339785122611"
      ]
     },
     "execution_count": 45,
     "metadata": {},
     "output_type": "execute_result"
    }
   ],
   "source": [
    "predictions = model.transform(dfUN)\n",
    "predictions.filter(predictions['prediction'] == 0) \\\n",
    "    .select(\"Category\",\"features\",\"probability\",\"label\",\"prediction\") \\\n",
    "    .orderBy(\"probability\", ascending=False) \\\n",
    "    .show(n = 10, truncate = 30)\n",
    "evaluatornb = MulticlassClassificationEvaluator(predictionCol=\"prediction\")\n",
    "evaluatornb.evaluate(predictions)"
   ]
  },
  {
   "cell_type": "markdown",
   "metadata": {},
   "source": [
    "## Calculate ACCURACY using Cross Validation on Logistic Regression\n",
    "Spark MLlib provides for cross-validation for hyperparameter tuning. Cross-validation attempts to fit the underlying estimator with user-specified combinations of parameters, cross-evaluate the fitted models, and output the best one."
   ]
  },
  {
   "cell_type": "code",
   "execution_count": 46,
   "metadata": {},
   "outputs": [
    {
     "data": {
      "text/plain": [
       "0.9032372171375949"
      ]
     },
     "execution_count": 46,
     "metadata": {},
     "output_type": "execute_result"
    }
   ],
   "source": [
    "from pyspark.ml.tuning import ParamGridBuilder, CrossValidator\n",
    "lr = LogisticRegression(maxIter=20, regParam=0.3, elasticNetParam=0)\n",
    "#from pyspark.ml.tuning import ParamGridBuilder, CrossValidator\n",
    "# Create ParamGrid for Cross Validation\n",
    "paramGrid = (ParamGridBuilder()\n",
    "             .addGrid(lr.regParam, [0.1, 0.3, 0.5]) # regularization parameter\n",
    "             .addGrid(lr.elasticNetParam, [0.0, 0.1, 0.2]) # Elastic Net Parameter (Ridge = 0)\n",
    "#            .addGrid(model.maxIter, [10, 20, 50]) #Number of iterations\n",
    "#            .addGrid(idf.numFeatures, [10, 100, 1000]) # Number of features\n",
    "             .build())\n",
    "# Create 5-fold CrossValidator\n",
    "cv = CrossValidator(estimator=lr, \\\n",
    "                    estimatorParamMaps=paramGrid, \\\n",
    "                    evaluator=evaluator, \\\n",
    "                    numFolds=5)\n",
    "pipelineCVLR = Pipeline(stages=[regexTokenizer, remover, hashingTF, idf, label_stringIdx,cv])\n",
    "cvModel = pipelineCVLR.fit(trainingData)\n",
    "\n",
    "predictions = cvModel.transform(testData)\n",
    "# Evaluate best model\n",
    "evaluator = MulticlassClassificationEvaluator(predictionCol=\"prediction\")\n",
    "evaluator.evaluate(predictions)\n"
   ]
  },
  {
   "cell_type": "markdown",
   "metadata": {},
   "source": [
    "## Accuracy of UNKNOWN Data using CV with Logistic Regression\n"
   ]
  },
  {
   "cell_type": "code",
   "execution_count": 47,
   "metadata": {},
   "outputs": [
    {
     "data": {
      "text/plain": [
       "0.9419612090569194"
      ]
     },
     "execution_count": 47,
     "metadata": {},
     "output_type": "execute_result"
    }
   ],
   "source": [
    "predictions = cvModel.transform(dfUN)\n",
    "# Evaluate best model\n",
    "evaluator = MulticlassClassificationEvaluator(predictionCol=\"prediction\")\n",
    "evaluator.evaluate(predictions)"
   ]
  },
  {
   "cell_type": "markdown",
   "metadata": {},
   "source": [
    "## CLASSIFICATION USING \"RANDOM FOREST\""
   ]
  },
  {
   "cell_type": "code",
   "execution_count": 48,
   "metadata": {},
   "outputs": [
    {
     "name": "stdout",
     "output_type": "stream",
     "text": [
      "+--------+------------------------------+------------------------------+-----+----------+\n",
      "|Category|                      features|                   probability|label|prediction|\n",
      "+--------+------------------------------+------------------------------+-----+----------+\n",
      "|politics|(10000,[20,21,45,63,132,141...|[0.6187553063619479,0.11438...|  0.0|       0.0|\n",
      "|politics|(10000,[1,7,42,49,51,52,94,...|[0.6108743839701696,0.10833...|  0.0|       0.0|\n",
      "|politics|(10000,[42,45,55,58,71,77,8...|[0.5983538448520096,0.11701...|  0.0|       0.0|\n",
      "|politics|(10000,[12,47,52,126,132,13...|[0.5828053952322988,0.14426...|  0.0|       0.0|\n",
      "|politics|(10000,[42,44,47,49,52,55,6...|[0.5478062405177812,0.14397...|  0.0|       0.0|\n",
      "|politics|(10000,[7,20,21,23,44,56,63...|[0.541161776471956,0.131416...|  0.0|       0.0|\n",
      "|politics|(10000,[1,39,42,47,51,52,73...|[0.53255121178801,0.1584731...|  0.0|       0.0|\n",
      "|politics|(10000,[0,21,30,45,107,161,...|[0.5227977989472073,0.14550...|  0.0|       0.0|\n",
      "|politics|(10000,[7,15,24,51,78,132,1...|[0.5227426892515082,0.14517...|  0.0|       0.0|\n",
      "|politics|(10000,[7,41,42,45,47,78,12...|[0.5212077255510811,0.13999...|  0.0|       0.0|\n",
      "+--------+------------------------------+------------------------------+-----+----------+\n",
      "only showing top 10 rows\n",
      "\n"
     ]
    }
   ],
   "source": [
    "from pyspark.ml.classification import RandomForestClassifier\n",
    "rf = RandomForestClassifier(labelCol=\"label\", \\\n",
    "                            featuresCol=\"features\", \\\n",
    "                            numTrees = 100, \\\n",
    "                            maxDepth = 4, \\\n",
    "                            maxBins = 32)\n",
    "pipelineRF = Pipeline(stages=[regexTokenizer, remover, hashingTF, idf, label_stringIdx, rf])\n",
    "\n",
    "# Train model with Training Data\n",
    "rfModel = pipelineRF.fit(trainingData)\n",
    "predictions = rfModel.transform(testData)\n",
    "predictions.filter(predictions['prediction'] == 0) \\\n",
    "    .select(\"Category\",\"features\",\"probability\",\"label\",\"prediction\") \\\n",
    "    .orderBy(\"probability\", ascending=False) \\\n",
    "    .show(n = 10, truncate = 30)"
   ]
  },
  {
   "cell_type": "markdown",
   "metadata": {},
   "source": [
    "## Accuracy  of Test Data using \"Random Forest\"\n"
   ]
  },
  {
   "cell_type": "code",
   "execution_count": 49,
   "metadata": {},
   "outputs": [
    {
     "data": {
      "text/plain": [
       "0.8015466517231717"
      ]
     },
     "execution_count": 49,
     "metadata": {},
     "output_type": "execute_result"
    }
   ],
   "source": [
    "evaluator = MulticlassClassificationEvaluator(predictionCol=\"prediction\")\n",
    "evaluator.evaluate(predictions)"
   ]
  },
  {
   "cell_type": "markdown",
   "metadata": {},
   "source": [
    "## Accuracy  of UNKNOWN Data using \"Random Forest\"\n"
   ]
  },
  {
   "cell_type": "code",
   "execution_count": 50,
   "metadata": {},
   "outputs": [
    {
     "name": "stdout",
     "output_type": "stream",
     "text": [
      "+--------+------------------------------+------------------------------+-----+----------+\n",
      "|Category|                      features|                   probability|label|prediction|\n",
      "+--------+------------------------------+------------------------------+-----+----------+\n",
      "|politics|(10000,[0,15,20,24,56,70,73...|[0.6117351120799032,0.09268...|  0.0|       0.0|\n",
      "|politics|(10000,[7,24,55,63,71,78,94...|[0.6008149929993282,0.12772...|  0.0|       0.0|\n",
      "|politics|(10000,[47,63,87,90,104,132...|[0.5928923234387008,0.11564...|  0.0|       0.0|\n",
      "|politics|(10000,[15,17,55,102,118,13...|[0.5859199394139557,0.12883...|  0.0|       0.0|\n",
      "|politics|(10000,[11,42,47,52,63,132,...|[0.5819386388831426,0.15671...|  0.0|       0.0|\n",
      "|politics|(10000,[1,12,20,22,63,68,73...|[0.5671795629428075,0.11578...|  0.0|       0.0|\n",
      "|politics|(10000,[0,7,21,47,49,51,70,...|[0.5652136471056777,0.13302...|  0.0|       0.0|\n",
      "|politics|(10000,[20,71,77,82,90,120,...|[0.5595822541513068,0.14237...|  0.0|       0.0|\n",
      "|politics|(10000,[1,63,132,148,208,20...|[0.5444366557613389,0.16775...|  0.0|       0.0|\n",
      "|politics|(10000,[47,55,91,120,132,15...|[0.5372141874015828,0.14538...|  0.0|       0.0|\n",
      "+--------+------------------------------+------------------------------+-----+----------+\n",
      "only showing top 10 rows\n",
      "\n"
     ]
    },
    {
     "data": {
      "text/plain": [
       "0.674496706476051"
      ]
     },
     "execution_count": 50,
     "metadata": {},
     "output_type": "execute_result"
    }
   ],
   "source": [
    "predictions = rfModel.transform(dfUN)\n",
    "predictions.filter(predictions['prediction'] == 0) \\\n",
    "    .select(\"Category\",\"features\",\"probability\",\"label\",\"prediction\") \\\n",
    "    .orderBy(\"probability\", ascending=False) \\\n",
    "    .show(n = 10, truncate = 30)\n",
    "evaluator = MulticlassClassificationEvaluator(predictionCol=\"prediction\")\n",
    "evaluator.evaluate(predictions)"
   ]
  },
  {
   "cell_type": "markdown",
   "metadata": {},
   "source": [
    "## ASSESSMENT:\n",
    "\n",
    "\n",
    "#### Accuracy of Unknown Dataset on Various Models:\n",
    "##### Logistic Regression: $0.918297808424174$\n",
    "##### Naive Bayes : $0.9387861118473364$\n",
    "##### Cross Validation Using Logistic Regression : $0.9796340896607091$\n",
    "##### Random Forest : $0.8011736273456751$\n",
    "\n",
    "#### Clearly the Cross Validation yeilds highest accuracy.\n",
    "#### Random forest is not a good choice for high-dimensional sparse data.\n",
    "\n",
    "### Conclusion: Logistic Regression Using Cross Validation is the best model in our analysis\n",
    "\n"
   ]
  }
 ],
 "metadata": {
  "kernelspec": {
   "display_name": "Python 3",
   "language": "python",
   "name": "python3"
  },
  "language_info": {
   "codemirror_mode": {
    "name": "ipython",
    "version": 3
   },
   "file_extension": ".py",
   "mimetype": "text/x-python",
   "name": "python",
   "nbconvert_exporter": "python",
   "pygments_lexer": "ipython3",
   "version": "3.6.6"
  }
 },
 "nbformat": 4,
 "nbformat_minor": 2
}
